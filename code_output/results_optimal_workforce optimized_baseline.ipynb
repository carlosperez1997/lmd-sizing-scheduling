{
 "cells": [
  {
   "cell_type": "code",
   "execution_count": 1,
   "metadata": {},
   "outputs": [
    {
     "name": "stderr",
     "output_type": "stream",
     "text": [
      "/home/clarice/.local/lib/python3.10/site-packages/matplotlib/projections/__init__.py:63: UserWarning: Unable to import Axes3D. This may be due to multiple versions of Matplotlib being installed (e.g. as a system package and as a pip package). As a result, the 3D projection is not available.\n",
      "  warnings.warn(\"Unable to import Axes3D. This may be due to multiple versions of \"\n"
     ]
    }
   ],
   "source": [
    "from glob import glob\n",
    "from os import path\n",
    "import seaborn as sns\n",
    "import json\n",
    "import os\n",
    "import numpy as np\n",
    "import pandas as pd\n",
    "import re\n",
    "from os.path import basename, splitext\n",
    "import time\n",
    "import pickle\n",
    "import json\n",
    "from datetime import datetime\n",
    "\n",
    "# from solver import Instance\n",
    "\n",
    "from argparse import Namespace\n",
    "import sys\n",
    "sys.path.append('../solver')\n",
    "# from solver_output import practice_print\n",
    "from solver_rostering_new_baseline import run_baseline_solver_output"
   ]
  },
  {
   "cell_type": "code",
   "execution_count": 2,
   "metadata": {},
   "outputs": [],
   "source": [
    "city = 'paris'\n",
    "\n",
    "# fixed params\n",
    "RM = 1.5\n",
    "GM = 0.8\n",
    "h_min = 32\n",
    "h_max = 48\n",
    "max_n_diff = 3\n",
    "\n",
    "refresh = False"
   ]
  },
  {
   "cell_type": "code",
   "execution_count": 3,
   "metadata": {},
   "outputs": [
    {
     "name": "stdout",
     "output_type": "stream",
     "text": [
      "['paris_db=0.50', 'paris_db=1.00', 'paris_db=2.00', 'paris_db=4.00']\n"
     ]
    }
   ],
   "source": [
    "list_city_dt = []\n",
    "\n",
    "for file_in in os.listdir(r'../instances'):\n",
    "    base_file = splitext(basename(file_in))[0]\n",
    "    base_file_split = base_file.split('_')\n",
    "    file = base_file_split[0]+'_'+base_file_split[1]\n",
    "    list_city_dt.append(file)\n",
    "\n",
    "list_city_dt = list(set(list_city_dt))\n",
    "list_city_dt.sort()\n",
    "\n",
    "#Subset to frankfurt\n",
    "list_city_dt_subset = []\n",
    "\n",
    "for city_db in list_city_dt:\n",
    "    if (city_db.find(city) > -1):\n",
    "        list_city_dt_subset.append(city_db)\n",
    "\n",
    "print(list_city_dt_subset)"
   ]
  },
  {
   "cell_type": "code",
   "execution_count": 4,
   "metadata": {},
   "outputs": [],
   "source": [
    "def load_shift(shift_file, OC, RM, GM, model, max_n_shifts=None):\n",
    "    with open(shift_file, 'r') as file:\n",
    "        data = json.load(file)\n",
    "        df_shifts = pd.DataFrame(data)\n",
    "    df_shifts = df_shifts[(df_shifts['outsourcing_cost_multiplier']==OC)&(df_shifts['regional_multiplier']==RM)&(df_shifts['global_multiplier']==GM)]\n",
    "    #fixed or flex\n",
    "    if model in ['fixed','flex']:\n",
    "        df_shifts = df_shifts[df_shifts['model']==model]\n",
    "    #partflex\n",
    "    else:\n",
    "        df_shifts = df_shifts[(df_shifts['model']==model)&(df_shifts['max_n_shifts']==max_n_shifts)]\n",
    "    df_shifts.reset_index(drop = True, inplace=True)\n",
    "    df_shifts = df_shifts[['region','shifts_start','shifts_end']]\n",
    "    dict_shifts = df_shifts.set_index('region').to_dict(orient='index')\n",
    "    return dict_shifts"
   ]
  },
  {
   "cell_type": "code",
   "execution_count": 5,
   "metadata": {},
   "outputs": [],
   "source": [
    "def load_workforce(workforce_file, OC, RM, GM, model, max_n_shifts=None):\n",
    "    with open(workforce_file, 'r') as file:\n",
    "        data = json.load(file)\n",
    "        df_workforce = pd.DataFrame(data)\n",
    "    df_workforce = df_workforce[(df_workforce['outsourcing_cost_multiplier']==OC)&(df_workforce['regional_multiplier']==RM)&(df_workforce['global_multiplier']==GM)]\n",
    "    #fixed or flex\n",
    "    if model in ['fixed','flex']:\n",
    "        df_workforce = df_workforce[df_workforce['model']==model]\n",
    "    #partflex\n",
    "    else:\n",
    "        df_workforce = df_workforce[(df_workforce['model']==model)&(df_workforce['max_n_shifts']==max_n_shifts)]\n",
    "    df_workforce.reset_index(drop = True, inplace=True)\n",
    "    return (int(df_workforce['workforce_size_region0'].tolist()[0])-1)\n"
   ]
  },
  {
   "cell_type": "code",
   "execution_count": 6,
   "metadata": {},
   "outputs": [
    {
     "name": "stdout",
     "output_type": "stream",
     "text": [
      "Set parameter Username\n",
      "Academic license - for non-commercial use only - expires 2025-05-06\n",
      "Base: lyon_db=0.50, OC: 1.2, model: fixed-None, run_time: 2.495487689971924\n",
      "Base: lyon_db=0.50, OC: 1.2, model: partflex-2, already solved. Saving previous results\n",
      "Base: lyon_db=0.50, OC: 1.2, model: flex-None, run_time: 5.456137180328369\n",
      "Base: lyon_db=0.50, OC: 1.2, model: partflex-3, already solved. Saving previous results\n",
      "Base: lyon_db=0.50, OC: 1.2, model: partflex-4, already solved. Saving previous results\n",
      "Base: lyon_db=0.50, OC: 1.5, model: fixed-None, run_time: 2.3850557804107666\n",
      "Base: lyon_db=0.50, OC: 1.5, model: partflex-2, already solved. Saving previous results\n",
      "Base: lyon_db=0.50, OC: 1.5, model: flex-None, run_time: 2.370166540145874\n",
      "Base: lyon_db=0.50, OC: 1.5, model: partflex-3, already solved. Saving previous results\n",
      "Base: lyon_db=0.50, OC: 1.5, model: partflex-4, already solved. Saving previous results\n",
      "Base: lyon_db=0.50, OC: 1.8, model: fixed-None, run_time: 2.4632651805877686\n",
      "Base: lyon_db=0.50, OC: 1.8, model: partflex-2, already solved. Saving previous results\n",
      "Base: lyon_db=0.50, OC: 1.8, model: flex-None, run_time: 2.3951616287231445\n",
      "Base: lyon_db=0.50, OC: 1.8, model: partflex-3, already solved. Saving previous results\n",
      "Base: lyon_db=0.50, OC: 1.8, model: partflex-4, already solved. Saving previous results\n",
      "Base: lyon_db=0.50, OC: 2.0, model: fixed-None, run_time: 2.465081214904785\n",
      "Base: lyon_db=0.50, OC: 2.0, model: partflex-2, already solved. Saving previous results\n",
      "Base: lyon_db=0.50, OC: 2.0, model: flex-None, run_time: 2.3614234924316406\n",
      "Base: lyon_db=0.50, OC: 2.0, model: partflex-3, already solved. Saving previous results\n",
      "Base: lyon_db=0.50, OC: 2.0, model: partflex-4, already solved. Saving previous results\n",
      "Base: lyon_db=0.50, OC: 2.5, model: fixed-None, run_time: 2.5369372367858887\n",
      "Base: lyon_db=0.50, OC: 2.5, model: partflex-2, already solved. Saving previous results\n",
      "Base: lyon_db=0.50, OC: 2.5, model: flex-None, run_time: 2.680684804916382\n",
      "Base: lyon_db=0.50, OC: 2.5, model: partflex-3, already solved. Saving previous results\n",
      "Base: lyon_db=0.50, OC: 2.5, model: partflex-4, already solved. Saving previous results\n"
     ]
    }
   ],
   "source": [
    "# for base_file in list_city_dt:\n",
    "for base_file in ['lyon_db=0.50']:\n",
    "\n",
    "    #create inputs to run a trial workforce size\n",
    "    weekday_ = f'{base_file}_dt=doublepeak.json'\n",
    "    weekend_ = f'{base_file}_dt=uniform.json'\n",
    "\n",
    "    instance_file_weekday = f\"../instances/{weekday_}\"\n",
    "    instance_file_weekend = f\"../instances/{weekend_}\"\n",
    "\n",
    "    shift_file_weekday = f\"../shifts/{weekday_}\"\n",
    "    shift_file_weekend = f\"../shifts/{weekend_}\"\n",
    "\n",
    "    expand_workforce_to_regions=True\n",
    "    workforce_dict = {}\n",
    "\n",
    "    new_shift_weekend = None\n",
    "    new_shift_weekday = None\n",
    "    new_workforce = None\n",
    "    dict_results = {}\n",
    "\n",
    "    for OC in [1.2, 1.5, 1.8, 2.0, 2.5]:\n",
    "    # for OC in [1.2]:\n",
    "\n",
    "        new_shift_weekend = None\n",
    "        new_shift_weekday = None\n",
    "        new_workforce = None\n",
    "        dict_results = {}\n",
    "\n",
    "        # for model in ['flex',  'partflex', 'fixed']:\n",
    "        for (model, max_n_shifts) in [('fixed',None),('partflex',2),('flex',None),('partflex',3),('partflex',4)]:\n",
    "\n",
    "            if max_n_shifts == None:\n",
    "                results_file = f\"../rerun_baseline/{base_file}_OC={OC}_model={model}.pkl\"\n",
    "            else:\n",
    "                results_file = f\"../rerun_baseline/{base_file}_OC={OC}_model={model}_max_n_shifts={max_n_shifts}.pkl\"\n",
    "\n",
    "            old_results = dict_results\n",
    "\n",
    "            # Check if shift pattern is already solved\n",
    "            old_workforce = new_workforce\n",
    "            new_workforce = load_workforce(f'../workforce_size/{base_file}.json', OC, RM, GM, model, max_n_shifts)\n",
    "            old_shift_weekend = new_shift_weekend\n",
    "            old_shift_weekday = new_shift_weekday\n",
    "            new_shift_weekend = load_shift(shift_file_weekend, OC, RM, GM, model, max_n_shifts)\n",
    "            new_shift_weekday = load_shift(shift_file_weekday, OC, RM, GM, model, max_n_shifts)\n",
    "\n",
    "            if old_shift_weekend == new_shift_weekend and old_shift_weekday == new_shift_weekday and old_workforce == new_workforce:\n",
    "                old_results['model']  = [model]\n",
    "                old_results['max_n_shifts'] = [max_n_shifts]\n",
    "\n",
    "                print(f'Base: {base_file}, OC: {OC}, model: {model}-{max_n_shifts}, already solved. Saving previous results')\n",
    "\n",
    "                # Save previous results\n",
    "                with open(results_file, 'wb') as file:\n",
    "                    pickle.dump(old_results, file)\n",
    "                continue\n",
    "            \n",
    "            start_time = time.time()\n",
    "            dict_results = \\\n",
    "                run_baseline_solver_output(model, instance_file_weekday, \n",
    "                                                    shift_file_weekday, instance_file_weekend, \n",
    "                                                    shift_file_weekend, workforce_dict, \n",
    "                                                    OC, RM, GM, h_min, h_max, max_n_diff, \n",
    "                                                    max_n_shifts, expand_workforce_to_regions=True)\n",
    "            \n",
    "            end_time = time.time()\n",
    "            run_time = (end_time - start_time)\n",
    "            \n",
    "            # Save results\n",
    "            with open(results_file, 'wb') as file:\n",
    "                pickle.dump(dict_results, file)\n",
    "            print(f'Base: {base_file}, OC: {OC}, model: {model}-{max_n_shifts}, run_time: {run_time}')\n",
    "\n"
   ]
  }
 ],
 "metadata": {
  "kernelspec": {
   "display_name": "tsp",
   "language": "python",
   "name": "python3"
  },
  "language_info": {
   "codemirror_mode": {
    "name": "ipython",
    "version": 3
   },
   "file_extension": ".py",
   "mimetype": "text/x-python",
   "name": "python",
   "nbconvert_exporter": "python",
   "pygments_lexer": "ipython3",
   "version": "3.10.12"
  }
 },
 "nbformat": 4,
 "nbformat_minor": 2
}
