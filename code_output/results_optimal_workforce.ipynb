{
 "cells": [
  {
   "cell_type": "code",
   "execution_count": 1,
   "metadata": {},
   "outputs": [],
   "source": [
    "from glob import glob\n",
    "from os import path\n",
    "import seaborn as sns\n",
    "import json\n",
    "import os\n",
    "import numpy as np\n",
    "import pandas as pd\n",
    "import re\n",
    "from os.path import basename, splitext\n",
    "import time\n",
    "import pickle\n",
    "\n",
    "# from solver import Instance\n",
    "\n",
    "from argparse import Namespace\n",
    "import sys\n",
    "sys.path.append('../solver')\n",
    "# from solver_output import practice_print\n",
    "from solver_rostering import run_roster_solver_objval_w_baseline"
   ]
  },
  {
   "cell_type": "code",
   "execution_count": 2,
   "metadata": {},
   "outputs": [],
   "source": [
    "city = 'frank'\n",
    "\n",
    "# fixed params\n",
    "RM = 1.5\n",
    "GM = 0.8\n",
    "h_min = 32\n",
    "h_max = 48\n",
    "max_n_diff = 3"
   ]
  },
  {
   "cell_type": "code",
   "execution_count": 3,
   "metadata": {},
   "outputs": [
    {
     "name": "stdout",
     "output_type": "stream",
     "text": [
      "['berlin_db=0.50', 'berlin_db=1.00', 'berlin_db=2.00', 'berlin_db=4.00', 'frankfurt_db=0.50', 'frankfurt_db=1.00', 'frankfurt_db=2.00', 'frankfurt_db=4.00', 'lyon_db=0.50', 'lyon_db=1.00', 'lyon_db=2.00', 'lyon_db=4.00', 'paris_db=0.50', 'paris_db=1.00', 'paris_db=2.00', 'paris_db=4.00']\n",
      "16\n"
     ]
    }
   ],
   "source": [
    "list_city_dt = []\n",
    "\n",
    "for file_in in os.listdir(r'../instances'):\n",
    "    base_file = splitext(basename(file_in))[0]\n",
    "    base_file_split = base_file.split('_')\n",
    "    file = base_file_split[0]+'_'+base_file_split[1]\n",
    "    list_city_dt.append(file)\n",
    "\n",
    "list_city_dt = list(set(list_city_dt))\n",
    "list_city_dt.sort()\n",
    "\n",
    "#Subset to frankfurt\n",
    "list_city_dt_subset = []\n",
    "\n",
    "for city_db in list_city_dt:\n",
    "    if (city_db.find(city) > -1):\n",
    "        list_city_dt_subset.append(city_db)\n",
    "\n",
    "print(list_city_dt_subset)"
   ]
  },
  {
   "cell_type": "code",
   "execution_count": 6,
   "metadata": {},
   "outputs": [
    {
     "name": "stdout",
     "output_type": "stream",
     "text": [
      "Set parameter Username\n",
      "Academic license - for non-commercial use only - expires 2024-10-12\n",
      "instance_results saved to ../raw_results/frankfurt_db=0.50_OC=1.2_model=fixed.pkl\n",
      "instance_results saved to ../raw_results/frankfurt_db=0.50_OC=1.2_model=flex.pkl\n",
      "Base: frankfurt_db=0.50, OC: 1.2, model: partflex-2, run_time: 13.648569107055664\n",
      "instance_results saved to ../raw_results/frankfurt_db=0.50_OC=1.2_model=partflex_max_n_shifts=2.pkl\n",
      "Base: frankfurt_db=0.50, OC: 1.2, model: partflex-3, run_time: 16.72729516029358\n",
      "instance_results saved to ../raw_results/frankfurt_db=0.50_OC=1.2_model=partflex_max_n_shifts=3.pkl\n",
      "Base: frankfurt_db=0.50, OC: 1.2, model: partflex-4, run_time: 17.101038932800293\n",
      "instance_results saved to ../raw_results/frankfurt_db=0.50_OC=1.2_model=partflex_max_n_shifts=4.pkl\n",
      "instance_results saved to ../raw_results/frankfurt_db=0.50_OC=1.5_model=fixed.pkl\n",
      "instance_results saved to ../raw_results/frankfurt_db=0.50_OC=1.5_model=flex.pkl\n",
      "Base: frankfurt_db=0.50, OC: 1.5, model: partflex-2, run_time: 16.541373014450073\n",
      "instance_results saved to ../raw_results/frankfurt_db=0.50_OC=1.5_model=partflex_max_n_shifts=2.pkl\n",
      "Base: frankfurt_db=0.50, OC: 1.5, model: partflex-3, run_time: 39.375057220458984\n",
      "instance_results saved to ../raw_results/frankfurt_db=0.50_OC=1.5_model=partflex_max_n_shifts=3.pkl\n",
      "Base: frankfurt_db=0.50, OC: 1.5, model: partflex-4, run_time: 42.690115213394165\n",
      "instance_results saved to ../raw_results/frankfurt_db=0.50_OC=1.5_model=partflex_max_n_shifts=4.pkl\n",
      "instance_results saved to ../raw_results/frankfurt_db=0.50_OC=1.8_model=fixed.pkl\n",
      "instance_results saved to ../raw_results/frankfurt_db=0.50_OC=1.8_model=flex.pkl\n",
      "Base: frankfurt_db=0.50, OC: 1.8, model: partflex-2, run_time: 18.9268581867218\n",
      "instance_results saved to ../raw_results/frankfurt_db=0.50_OC=1.8_model=partflex_max_n_shifts=2.pkl\n",
      "Base: frankfurt_db=0.50, OC: 1.8, model: partflex-3, run_time: 60.357837200164795\n",
      "instance_results saved to ../raw_results/frankfurt_db=0.50_OC=1.8_model=partflex_max_n_shifts=3.pkl\n",
      "Base: frankfurt_db=0.50, OC: 1.8, model: partflex-4, run_time: 66.89755988121033\n",
      "instance_results saved to ../raw_results/frankfurt_db=0.50_OC=1.8_model=partflex_max_n_shifts=4.pkl\n",
      "instance_results saved to ../raw_results/frankfurt_db=0.50_OC=2.0_model=fixed.pkl\n",
      "instance_results saved to ../raw_results/frankfurt_db=0.50_OC=2.0_model=flex.pkl\n",
      "Base: frankfurt_db=0.50, OC: 2.0, model: partflex-2, run_time: 13.909613132476807\n",
      "instance_results saved to ../raw_results/frankfurt_db=0.50_OC=2.0_model=partflex_max_n_shifts=2.pkl\n"
     ]
    }
   ],
   "source": [
    "for base_file in list_city_dt_subset:\n",
    "\n",
    "    #create inputs to run a trial workforce size\n",
    "    weekday_ = f'{base_file}_dt=doublepeak.json'\n",
    "    weekend_ = f'{base_file}_dt=uniform.json'\n",
    "\n",
    "    instance_file_weekday = f\"../instances/{weekday_}\"\n",
    "    instance_file_weekend = f\"../instances/{weekend_}\"\n",
    "\n",
    "    shift_file_weekday = f\"../shifts/{weekday_}\"\n",
    "    shift_file_weekend = f\"../shifts/{weekend_}\"\n",
    "\n",
    "    expand_workforce_to_regions=True\n",
    "    workforce_dict = {}\n",
    "\n",
    "    for OC in [1.2, 1.5, 1.8, 2.0, 2.5]:\n",
    "    # for OC in [1.2]:\n",
    "        for model in ['fixed', 'flex', 'partflex']:\n",
    "        # for model in ['fixed']:\n",
    "            if model == 'partflex':\n",
    "                for max_n_shifts in range(2,5):\n",
    "                    start_time = time.time()\n",
    "                    dict_baseline, dict_results = \\\n",
    "                        run_roster_solver_objval_w_baseline(model, instance_file_weekday, \n",
    "                                                            shift_file_weekday, instance_file_weekend, \n",
    "                                                            shift_file_weekend, workforce_dict, \n",
    "                                                            OC, RM, GM, h_min, h_max, max_n_diff, \n",
    "                                                            max_n_shifts, expand_workforce_to_regions=True)\n",
    "                    \n",
    "                    dict_results['baseline'] = dict_baseline\n",
    "                    end_time = time.time()\n",
    "                    run_time = (end_time - start_time)\n",
    "                    print(f'Base: {base_file}, OC: {OC}, model: {model}-{max_n_shifts}, run_time: {run_time}')\n",
    "                    \n",
    "                    # Save results\n",
    "                    results_file = f\"../raw_results/{base_file}_OC={OC}_model={model}_max_n_shifts={max_n_shifts}.pkl\"\n",
    "                    with open(results_file, 'wb') as file:\n",
    "                        pickle.dump(dict_results, file)\n",
    "                    print(f'instance_results saved to {results_file}')\n",
    "            else:\n",
    "                start_time = time.time()\n",
    "                dict_baseline, dict_results = \\\n",
    "                    run_roster_solver_objval_w_baseline(model, instance_file_weekday, \n",
    "                                                        shift_file_weekday, instance_file_weekend, \n",
    "                                                        shift_file_weekend, workforce_dict, \n",
    "                                                        OC, RM, GM, h_min, h_max, max_n_diff, \n",
    "                                                        expand_workforce_to_regions=True)\n",
    "                \n",
    "                dict_results['baseline'] = dict_baseline\n",
    "                end_time = time.time()\n",
    "                run_time = (end_time - start_time)\n",
    "\n",
    "                # Save results\n",
    "                results_file = f\"../raw_results/{base_file}_OC={OC}_model={model}.pkl\"\n",
    "                with open(results_file, 'wb') as file:\n",
    "                    pickle.dump(dict_results, file)\n",
    "                print(f'instance_results saved to {results_file}')\n"
   ]
  }
 ],
 "metadata": {
  "kernelspec": {
   "display_name": "tsp",
   "language": "python",
   "name": "python3"
  },
  "language_info": {
   "codemirror_mode": {
    "name": "ipython",
    "version": 3
   },
   "file_extension": ".py",
   "mimetype": "text/x-python",
   "name": "python",
   "nbconvert_exporter": "python",
   "pygments_lexer": "ipython3",
   "version": "3.8.5"
  }
 },
 "nbformat": 4,
 "nbformat_minor": 2
}
