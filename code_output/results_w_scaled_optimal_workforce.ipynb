{
 "cells": [
  {
   "cell_type": "code",
   "execution_count": null,
   "metadata": {},
   "outputs": [],
   "source": [
    "from glob import glob\n",
    "from os import path\n",
    "from matplotlib.patches import Patch\n",
    "from matplotlib.lines import Line2D\n",
    "from matplotlib.legend_handler import HandlerTuple\n",
    "import matplotlib.pyplot as plt\n",
    "import seaborn as sns\n",
    "import json\n",
    "import pandas as pd\n",
    "import os\n",
    "import numpy as np\n",
    "import re\n",
    "from os.path import basename, splitext\n",
    "\n",
    "# from solver import Instance\n",
    "\n",
    "from argparse import Namespace\n",
    "import sys\n",
    "sys.path.append('../solver')\n",
    "# from solver_output import practice_print\n",
    "from solver_rostering import run_roster_solver_objval"
   ]
  },
  {
   "cell_type": "code",
   "execution_count": null,
   "metadata": {},
   "outputs": [],
   "source": [
    "list_city_dt = []\n",
    "\n",
    "for file_in in os.listdir(r'../instances'):\n",
    "    base_file = splitext(basename(file_in))[0]\n",
    "    base_file_split = base_file.split('_')\n",
    "    file = base_file_split[0]+'_'+base_file_split[1]\n",
    "    list_city_dt.append(file)\n",
    "\n",
    "list_city_dt = list(set(list_city_dt))\n",
    "print(list_city_dt)\n",
    "print(len(list_city_dt))"
   ]
  },
  {
   "cell_type": "code",
   "execution_count": null,
   "metadata": {},
   "outputs": [],
   "source": [
    "list_results = []\n",
    "\n",
    "RM = 1.5\n",
    "GM = 0.8\n",
    "h_min = 32\n",
    "h_max = 48\n",
    "max_n_diff = 3\n",
    "\n",
    "# for base_file in list_city_dt:\n",
    "for base_file in ['berlin_db=1.00']:\n",
    "\n",
    "    #create inputs to run a trial workforce size\n",
    "    weekday_ = f'{base_file}_dt=doublepeak.json'\n",
    "    weekend_ = f'{base_file}_dt=uniform.json'\n",
    "\n",
    "    instance_file_weekday = f\"../instances/{weekday_}\"\n",
    "    instance_file_weekend = f\"../instances/{weekend_}\"\n",
    "\n",
    "    shift_file_weekday = f\"../shifts/{weekday_}\"\n",
    "    shift_file_weekend = f\"../shifts/{weekend_}\"\n",
    "\n",
    "    expand_workforce_to_regions=True\n",
    "    workforce_dict = {}\n",
    "\n",
    "    # for OC in [1.2, 1.5, 1.8, 2.0, 2.5]:\n",
    "    for OC in [1.2]:\n",
    "        # for model in ['fixed', 'flex', 'partflex']:\n",
    "        for model in ['fixed']:\n",
    "            if model == 'partflex':\n",
    "                # for max_n_shifts in range(2,5):\n",
    "                for max_n_shifts in [4]:\n",
    "                    dict_results = run_roster_solver_objval(model, instance_file_weekday, shift_file_weekday, instance_file_weekend, shift_file_weekend, workforce_dict, OC, RM, GM, h_min, h_max, max_n_diff, max_n_shifts, expand_workforce_to_regions=True)\n",
    "                    df_ = pd.DataFrame(dict_results)\n",
    "                    list_results.append(df_)\n",
    "            else:\n",
    "                dict_results = run_roster_solver_objval(model, instance_file_weekday, shift_file_weekday, instance_file_weekend, shift_file_weekend, workforce_dict, OC, RM, GM, h_min, h_max, max_n_diff, expand_workforce_to_regions=True)\n",
    "                df_ = pd.DataFrame(dict_results)\n",
    "                list_results.append(df_)\n"
   ]
  },
  {
   "cell_type": "code",
   "execution_count": null,
   "metadata": {},
   "outputs": [],
   "source": [
    "df_trials = pd.concat(list_results, ignore_index = True)\n",
    "df_trials\n"
   ]
  }
 ],
 "metadata": {
  "language_info": {
   "name": "python"
  }
 },
 "nbformat": 4,
 "nbformat_minor": 2
}
