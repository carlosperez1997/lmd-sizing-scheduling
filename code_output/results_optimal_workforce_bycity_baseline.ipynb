{
 "cells": [
  {
   "cell_type": "code",
   "execution_count": 1,
   "metadata": {},
   "outputs": [
    {
     "name": "stderr",
     "output_type": "stream",
     "text": [
      "/home/clarice/.local/lib/python3.10/site-packages/matplotlib/projections/__init__.py:63: UserWarning: Unable to import Axes3D. This may be due to multiple versions of Matplotlib being installed (e.g. as a system package and as a pip package). As a result, the 3D projection is not available.\n",
      "  warnings.warn(\"Unable to import Axes3D. This may be due to multiple versions of \"\n"
     ]
    }
   ],
   "source": [
    "from glob import glob\n",
    "from os import path\n",
    "import seaborn as sns\n",
    "import json\n",
    "import os\n",
    "import numpy as np\n",
    "import pandas as pd\n",
    "import re\n",
    "from os.path import basename, splitext\n",
    "import time\n",
    "import pickle\n",
    "import json\n",
    "from datetime import datetime\n",
    "\n",
    "# from solver import Instance\n",
    "\n",
    "from argparse import Namespace\n",
    "import sys\n",
    "sys.path.append('../solver')\n",
    "# from solver_output import practice_print\n",
    "from solver_rostering_new_baseline import run_baseline_solver_output"
   ]
  },
  {
   "cell_type": "code",
   "execution_count": 2,
   "metadata": {},
   "outputs": [
    {
     "name": "stdout",
     "output_type": "stream",
     "text": [
      "frankfurt_db=0.50\n",
      "frankfurt_db=1.00\n",
      "frankfurt_db=2.00\n",
      "frankfurt_db=4.00\n",
      "lyon_db=0.50\n",
      "lyon_db=1.00\n",
      "lyon_db=2.00\n",
      "lyon_db=4.00\n",
      "paris_db=0.50\n",
      "paris_db=1.00\n",
      "paris_db=2.00\n",
      "paris_db=4.00\n"
     ]
    }
   ],
   "source": [
    "\n",
    "list_ = ['frankfurt_db=0.50', 'frankfurt_db=1.00', 'frankfurt_db=2.00', 'frankfurt_db=4.00', 'lyon_db=0.50', 'lyon_db=1.00', 'lyon_db=2.00', 'lyon_db=4.00', 'paris_db=0.50', 'paris_db=1.00', 'paris_db=2.00', 'paris_db=4.00']\n",
    "for val in list_:\n",
    "    print(val)\n"
   ]
  },
  {
   "cell_type": "code",
   "execution_count": 3,
   "metadata": {},
   "outputs": [
    {
     "name": "stdout",
     "output_type": "stream",
     "text": [
      "start_time: 2024-06-05 12:33:25.118418\n",
      "Set parameter Username\n",
      "Academic license - for non-commercial use only - expires 2025-05-06\n"
     ]
    }
   ],
   "source": [
    "#compare baseline if there were one day off\n",
    "\n",
    "base_file = 'frankfurt_db=2.00'\n",
    "OC = 2.0\n",
    "model = 'fixed'\n",
    "max_n_shifts = None\n",
    "\n",
    "if max_n_shifts == None:\n",
    "    compare_file = f\"{base_file}_OC={OC}_model={model}.pkl\"\n",
    "else:\n",
    "    compare_file = f\"{base_file}_OC={OC}_model={model}_max_n_shifts={max_n_shifts}.pkl\"\n",
    "\n",
    "RM = 1.5\n",
    "GM = 0.8\n",
    "h_min = 32\n",
    "h_max = 48\n",
    "max_n_diff = 3\n",
    "\n",
    "#create inputs to run a trial workforce size\n",
    "weekday_ = f'{base_file}_dt=doublepeak.json'\n",
    "weekend_ = f'{base_file}_dt=uniform.json'\n",
    "\n",
    "instance_file_weekday = f\"../instances/{weekday_}\"\n",
    "instance_file_weekend = f\"../instances/{weekend_}\"\n",
    "\n",
    "shift_file_weekday = f\"../shifts/{weekday_}\"\n",
    "shift_file_weekend = f\"../shifts/{weekend_}\"\n",
    "\n",
    "workforce_dict = {}\n",
    "\n",
    "start_time = time.time()\n",
    "print(f'start_time: {datetime.fromtimestamp(start_time)}')\n",
    "dict_baseline = \\\n",
    "    run_baseline_solver_output(model, instance_file_weekday, \n",
    "                                        shift_file_weekday, instance_file_weekend, \n",
    "                                        shift_file_weekend, workforce_dict, \n",
    "                                        OC, RM, GM, h_min, h_max, max_n_diff, \n",
    "                                        max_n_shifts, expand_workforce_to_regions=True)\n"
   ]
  },
  {
   "cell_type": "code",
   "execution_count": 7,
   "metadata": {},
   "outputs": [
    {
     "name": "stdout",
     "output_type": "stream",
     "text": [
      "current baseline objval: [3229.2555555554136]\n",
      "day off baseline objval: [3229.255555555548]\n"
     ]
    }
   ],
   "source": [
    "dict_curr = pd.read_pickle(f'../raw_results/{compare_file}')\n",
    "dict_baseline_curr = dict_curr['baseline']\n",
    "\n",
    "curr_obj = dict_baseline_curr['objective_value']\n",
    "dayoff_obj = dict_baseline['objective_value']\n",
    "\n",
    "w = dict_baseline['w']\n",
    "\n",
    "print(f'current baseline objval: {curr_obj}')\n",
    "print(f'day off baseline objval: {dayoff_obj}')"
   ]
  }
 ],
 "metadata": {
  "kernelspec": {
   "display_name": "Python 3",
   "language": "python",
   "name": "python3"
  },
  "language_info": {
   "codemirror_mode": {
    "name": "ipython",
    "version": 3
   },
   "file_extension": ".py",
   "mimetype": "text/x-python",
   "name": "python",
   "nbconvert_exporter": "python",
   "pygments_lexer": "ipython3",
   "version": "3.10.12"
  }
 },
 "nbformat": 4,
 "nbformat_minor": 2
}
