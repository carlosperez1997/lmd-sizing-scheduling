{
 "cells": [
  {
   "cell_type": "code",
   "execution_count": 1,
   "metadata": {},
   "outputs": [
    {
     "name": "stderr",
     "output_type": "stream",
     "text": [
      "/home/clarice/.local/lib/python3.10/site-packages/matplotlib/projections/__init__.py:63: UserWarning: Unable to import Axes3D. This may be due to multiple versions of Matplotlib being installed (e.g. as a system package and as a pip package). As a result, the 3D projection is not available.\n",
      "  warnings.warn(\"Unable to import Axes3D. This may be due to multiple versions of \"\n"
     ]
    }
   ],
   "source": [
    "from glob import glob\n",
    "from os import path\n",
    "import seaborn as sns\n",
    "import json\n",
    "import pandas as pd\n",
    "import os\n",
    "import numpy as np\n",
    "import re\n",
    "from os.path import basename, splitext\n",
    "import time\n",
    "\n",
    "# from solver import Instance\n",
    "\n",
    "from argparse import Namespace\n",
    "import sys\n",
    "sys.path.append('../solver')\n",
    "# from solver_output import practice_print\n",
    "from solver_rostering import run_roster_solver_objval_w_baseline"
   ]
  },
  {
   "cell_type": "code",
   "execution_count": 2,
   "metadata": {},
   "outputs": [
    {
     "name": "stdout",
     "output_type": "stream",
     "text": [
      "['berlin_db=0.50', 'berlin_db=1.00', 'berlin_db=2.00', 'berlin_db=4.00', 'frankfurt_db=0.50', 'frankfurt_db=1.00', 'frankfurt_db=2.00', 'frankfurt_db=4.00', 'lyon_db=0.50', 'lyon_db=1.00', 'lyon_db=2.00', 'lyon_db=4.00', 'paris_db=0.50', 'paris_db=1.00', 'paris_db=2.00', 'paris_db=4.00']\n",
      "16\n"
     ]
    }
   ],
   "source": [
    "list_city_dt = []\n",
    "\n",
    "for file_in in os.listdir(r'../instances'):\n",
    "    base_file = splitext(basename(file_in))[0]\n",
    "    base_file_split = base_file.split('_')\n",
    "    file = base_file_split[0]+'_'+base_file_split[1]\n",
    "    list_city_dt.append(file)\n",
    "\n",
    "list_city_dt = list(set(list_city_dt))\n",
    "list_city_dt.sort()\n",
    "print(list_city_dt)\n",
    "print(len(list_city_dt))"
   ]
  },
  {
   "cell_type": "code",
   "execution_count": 3,
   "metadata": {},
   "outputs": [
    {
     "name": "stdout",
     "output_type": "stream",
     "text": [
      "['berlin_db=1.00', 'berlin_db=2.00', 'berlin_db=4.00']\n"
     ]
    }
   ],
   "source": [
    "#Subset to berlin\n",
    "\n",
    "list_city_dt_subset = []\n",
    "\n",
    "for city_db in list_city_dt:\n",
    "    if (city_db.find('berlin') > -1):\n",
    "        list_city_dt_subset.append(city_db)\n",
    "\n",
    "list_city_dt_subset.remove('berlin_db=0.50')\n",
    "print(list_city_dt_subset)\n"
   ]
  },
  {
   "cell_type": "code",
   "execution_count": 5,
   "metadata": {},
   "outputs": [
    {
     "name": "stdout",
     "output_type": "stream",
     "text": [
      "Base: berlin_db=1.00, OC: 1.2, model: fixed, run_time: 28.06146216392517\n",
      "Base: berlin_db=1.00, OC: 1.2, model: flex, run_time: 338.5765542984009\n",
      "Base: berlin_db=1.00, OC: 1.2, model: partflex-2, run_time: 28.1957106590271\n",
      "Base: berlin_db=1.00, OC: 1.2, model: partflex-3, run_time: 302.87793469429016\n",
      "Base: berlin_db=1.00, OC: 1.2, model: partflex-4, run_time: 338.15548062324524\n",
      "Base: berlin_db=1.00, OC: 1.5, model: fixed, run_time: 31.991613149642944\n",
      "Base: berlin_db=1.00, OC: 1.5, model: flex, run_time: 2221.0661425590515\n",
      "Base: berlin_db=1.00, OC: 1.5, model: partflex-2, run_time: 33.103434324264526\n",
      "Base: berlin_db=1.00, OC: 1.5, model: partflex-3, run_time: 279.9790503978729\n",
      "Base: berlin_db=1.00, OC: 1.5, model: partflex-4, run_time: 2858.4214911460876\n",
      "Base: berlin_db=1.00, OC: 1.8, model: fixed, run_time: 34.17139792442322\n",
      "Base: berlin_db=1.00, OC: 1.8, model: flex, run_time: 310.0044574737549\n",
      "Base: berlin_db=1.00, OC: 1.8, model: partflex-2, run_time: 31.966629028320312\n",
      "Base: berlin_db=1.00, OC: 1.8, model: partflex-3, run_time: 306.55361104011536\n",
      "Base: berlin_db=1.00, OC: 1.8, model: partflex-4, run_time: 308.38401651382446\n",
      "Base: berlin_db=1.00, OC: 2.0, model: fixed, run_time: 32.878074169158936\n",
      "Base: berlin_db=1.00, OC: 2.0, model: flex, run_time: 519.1283888816833\n",
      "Base: berlin_db=1.00, OC: 2.0, model: partflex-2, run_time: 32.81222081184387\n",
      "Base: berlin_db=1.00, OC: 2.0, model: partflex-3, run_time: 513.6591386795044\n",
      "Base: berlin_db=1.00, OC: 2.0, model: partflex-4, run_time: 510.2813673019409\n",
      "Base: berlin_db=1.00, OC: 2.5, model: fixed, run_time: 34.08428382873535\n",
      "Base: berlin_db=1.00, OC: 2.5, model: flex, run_time: 62.67644500732422\n",
      "Base: berlin_db=1.00, OC: 2.5, model: partflex-2, run_time: 33.392549991607666\n",
      "Base: berlin_db=1.00, OC: 2.5, model: partflex-3, run_time: 63.87880063056946\n",
      "Base: berlin_db=1.00, OC: 2.5, model: partflex-4, run_time: 63.67329263687134\n",
      "Base: berlin_db=2.00, OC: 1.2, model: fixed, run_time: 51.63932800292969\n",
      "Base: berlin_db=2.00, OC: 1.2, model: flex, run_time: 397.57638812065125\n",
      "Base: berlin_db=2.00, OC: 1.2, model: partflex-2, run_time: 51.914069175720215\n",
      "Base: berlin_db=2.00, OC: 1.2, model: partflex-3, run_time: 396.9186580181122\n",
      "Base: berlin_db=2.00, OC: 1.2, model: partflex-4, run_time: 400.8630402088165\n",
      "Base: berlin_db=2.00, OC: 1.5, model: fixed, run_time: 58.10119318962097\n",
      "Base: berlin_db=2.00, OC: 1.5, model: flex, run_time: 648.3147785663605\n",
      "Base: berlin_db=2.00, OC: 1.5, model: partflex-2, run_time: 57.570852518081665\n",
      "Base: berlin_db=2.00, OC: 1.5, model: partflex-3, run_time: 648.2091155052185\n",
      "Base: berlin_db=2.00, OC: 1.5, model: partflex-4, run_time: 650.0239789485931\n",
      "Base: berlin_db=2.00, OC: 1.8, model: fixed, run_time: 59.169936418533325\n",
      "Base: berlin_db=2.00, OC: 1.8, model: flex, run_time: 456.4064517021179\n",
      "Base: berlin_db=2.00, OC: 1.8, model: partflex-2, run_time: 58.90079379081726\n",
      "Base: berlin_db=2.00, OC: 1.8, model: partflex-3, run_time: 455.8039584159851\n",
      "\n",
      "Interrupt request received\n",
      "Base: berlin_db=2.00, OC: 1.8, model: partflex-4, run_time: 426.195809841156\n"
     ]
    }
   ],
   "source": [
    "\n",
    "\n",
    "RM = 1.5\n",
    "GM = 0.8\n",
    "h_min = 32\n",
    "h_max = 48\n",
    "max_n_diff = 3\n",
    "\n",
    "for base_file in list_city_dt_subset:\n",
    "# for base_file in ['lyon_db=0.50']:\n",
    "\n",
    "    list_results = []\n",
    "    dict_out = {'instance': [],\n",
    "        'city': [],\n",
    "        'demand_baseline': [],\n",
    "        'type': [],\n",
    "        'outsourcing_cost_multiplier': [],\n",
    "        'region_multiplier': [],\n",
    "        'global_multiplier': [],\n",
    "        'model': [],\n",
    "        'max_n_shifts': [],\n",
    "        'workforce_size': [],\n",
    "        'wage_costs': [],\n",
    "        'objective_value': [],\n",
    "        'objective_value_post_wage': []}\n",
    "\n",
    "    #create inputs to run a trial workforce size\n",
    "    weekday_ = f'{base_file}_dt=doublepeak.json'\n",
    "    weekend_ = f'{base_file}_dt=uniform.json'\n",
    "\n",
    "    instance_file_weekday = f\"../instances/{weekday_}\"\n",
    "    instance_file_weekend = f\"../instances/{weekend_}\"\n",
    "\n",
    "    shift_file_weekday = f\"../shifts/{weekday_}\"\n",
    "    shift_file_weekend = f\"../shifts/{weekend_}\"\n",
    "\n",
    "    expand_workforce_to_regions=True\n",
    "    workforce_dict = {}\n",
    "\n",
    "    #create dictionary for evaluating results by city/demand baseline\n",
    "    results_out = f\"../results/{base_file}.json\"\n",
    "\n",
    "    for OC in [1.2, 1.5, 1.8, 2.0, 2.5]:\n",
    "    # for OC in [1.2]:\n",
    "        for model in ['fixed', 'flex', 'partflex']:\n",
    "        # for model in ['fixed']:\n",
    "            if model == 'partflex':\n",
    "                for max_n_shifts in range(2,5):\n",
    "                    start_time = time.time()\n",
    "                    dict_baseline, dict_results = run_roster_solver_objval_w_baseline(model, instance_file_weekday, shift_file_weekday, instance_file_weekend, shift_file_weekend, workforce_dict, OC, RM, GM, h_min, h_max, max_n_diff, max_n_shifts, expand_workforce_to_regions=True)\n",
    "                    end_time = time.time()\n",
    "                    run_time = (end_time - start_time)\n",
    "                    dict_baseline['type'] = ['baseline']\n",
    "                    dict_results['type'] = ['model']\n",
    "                    df_ = pd.DataFrame(dict_baseline)\n",
    "                    list_results.append(df_)\n",
    "                    # list_results_all.append(df_)\n",
    "                    df_ = pd.DataFrame(dict_results)\n",
    "                    list_results.append(df_)\n",
    "                    # list_results_all.append(df_)\n",
    "                    for key in dict_out.keys():\n",
    "                        dict_out[key].extend(dict_baseline[key])\n",
    "                        dict_out[key].extend(dict_baseline[key])\n",
    "                    print(f'Base: {base_file}, OC: {OC}, model: {model}-{max_n_shifts}, run_time: {run_time}')\n",
    "            else:\n",
    "                start_time = time.time()\n",
    "                dict_baseline, dict_results = run_roster_solver_objval_w_baseline(model, instance_file_weekday, shift_file_weekday, instance_file_weekend, shift_file_weekend, workforce_dict, OC, RM, GM, h_min, h_max, max_n_diff, expand_workforce_to_regions=True)\n",
    "                end_time = time.time()\n",
    "                run_time = (end_time - start_time)\n",
    "                dict_baseline['type'] = ['baseline']\n",
    "                dict_results['type'] = ['model']\n",
    "                df_ = pd.DataFrame(dict_baseline)\n",
    "                list_results.append(df_)\n",
    "                # list_results_all.append(df_)\n",
    "                df_ = pd.DataFrame(dict_results)\n",
    "                list_results.append(df_)\n",
    "                # list_results_all.append(df_)\n",
    "                for key in dict_out.keys():\n",
    "                    dict_out[key].extend(dict_baseline[key])\n",
    "                    dict_out[key].extend(dict_baseline[key])\n",
    "                print(f'Base: {base_file}, OC: {OC}, model: {model}, run_time: {run_time}')\n",
    "    #export optimal workforce size values\n",
    "    with open(results_out, 'w') as f:\n",
    "        json.dump(dict_out, f, indent=2)\n",
    "    df_results = pd.concat(list_results, ignore_index = True)\n",
    "    df_results.to_excel(f'../results/{base_file}.xlsx', index = False)\n",
    "\n"
   ]
  },
  {
   "cell_type": "code",
   "execution_count": null,
   "metadata": {},
   "outputs": [],
   "source": [
    "# list_results_all = []\n",
    "# df_results_all = pd.concat(list_results_all, ignore_index = True)\n",
    "# df_results_all.to_excel(f'../results/all_cities_and_demand_baselines.xlsx', index = False)\n"
   ]
  }
 ],
 "metadata": {
  "kernelspec": {
   "display_name": "tsp",
   "language": "python",
   "name": "python3"
  },
  "language_info": {
   "codemirror_mode": {
    "name": "ipython",
    "version": 3
   },
   "file_extension": ".py",
   "mimetype": "text/x-python",
   "name": "python",
   "nbconvert_exporter": "python",
   "pygments_lexer": "ipython3",
   "version": "3.10.12"
  }
 },
 "nbformat": 4,
 "nbformat_minor": 2
}
