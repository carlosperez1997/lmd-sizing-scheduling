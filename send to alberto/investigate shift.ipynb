{
 "cells": [
  {
   "cell_type": "code",
   "execution_count": 1,
   "metadata": {},
   "outputs": [],
   "source": [
    "from solver_alberto import Instance, Solver \n",
    "from argparse import Namespace"
   ]
  },
  {
   "cell_type": "code",
   "execution_count": 2,
   "metadata": {},
   "outputs": [],
   "source": [
    "# READ SHIFTS\n",
    "city = 'frankfurt'\n",
    "demand_baseline = \"1.00\"\n",
    "week_demand_type = \"doublepeak\" # \"fixed\" demand_type\n",
    "demand_type = \"uniform\"\n",
    "outsourcing_cost_multiplier = 1.5\n",
    "model = \"fixed\" \n",
    "OC = 1.5\n",
    "RM = 1.5\n",
    "GM = 0.8\n",
    "max_n_shift = 100\n",
    "instance_file = f'instances/{city}_db={demand_baseline}_dt={demand_type}.json'"
   ]
  },
  {
   "cell_type": "code",
   "execution_count": 3,
   "metadata": {},
   "outputs": [
    {
     "name": "stdout",
     "output_type": "stream",
     "text": [
      "Set parameter Username\n",
      "Academic license - for non-commercial use only - expires 2024-10-12\n",
      "Gurobi Optimizer version 10.0.3 build v10.0.3rc0 (mac64[rosetta2])\n",
      "\n",
      "CPU model: Apple M2\n",
      "Thread count: 8 physical cores, 8 logical processors, using up to 8 threads\n",
      "\n",
      "Optimize a model with 7936 rows, 9840 columns and 16888 nonzeros\n",
      "Model fingerprint: 0x81242d3b\n",
      "Variable types: 7680 continuous, 2160 integer (0 binary)\n",
      "Coefficient statistics:\n",
      "  Matrix range     [1e+00, 2e+01]\n",
      "  Objective range  [1e-06, 1e+00]\n",
      "  Bounds range     [0e+00, 0e+00]\n",
      "  RHS range        [2e+00, 5e+01]\n",
      "Found heuristic solution: objective 823.3500000\n",
      "Presolve removed 7680 rows and 8674 columns\n",
      "Presolve time: 0.02s\n",
      "Presolved: 256 rows, 1166 columns, 2520 nonzeros\n",
      "Found heuristic solution: objective 564.8083403\n",
      "Variable types: 324 continuous, 842 integer (0 binary)\n",
      "\n",
      "Root relaxation: objective 3.059750e+02, 177 iterations, 0.00 seconds (0.00 work units)\n",
      "\n",
      "    Nodes    |    Current Node    |     Objective Bounds      |     Work\n",
      " Expl Unexpl |  Obj  Depth IntInf | Incumbent    BestBd   Gap | It/Node Time\n",
      "\n",
      "*    0     0               0     305.9750090  305.97501  0.00%     -    0s\n",
      "\n",
      "Explored 1 nodes (177 simplex iterations) in 0.04 seconds (0.02 work units)\n",
      "Thread count was 8 (of 8 available processors)\n",
      "\n",
      "Solution count 3: 305.975 564.808 823.35 \n",
      "\n",
      "Optimal solution found (tolerance 1.00e-04)\n",
      "Best objective 3.059750090000e+02, best bound 3.059750090000e+02, gap 0.0000%\n"
     ]
    }
   ],
   "source": [
    "# FIXED MODEL\n",
    "arguments = {\n",
    "    'model': 'fixed', \n",
    "    'instance': instance_file,\n",
    "    'outsourcing_cost_multiplier': OC,\n",
    "    'regional_multiplier': RM,\n",
    "    'global_multiplier': GM,\n",
    "    'max_n_shifts': 10,\n",
    "    'output': 'output.txt'\n",
    "}\n",
    "\n",
    "# Create a Namespace object from the dictionary\n",
    "args = Namespace(**arguments)\n",
    "\n",
    "i = Instance(args=args)\n",
    "solver = Solver(args=args, i=i)\n",
    "\n",
    "results = solver.solve_fixed()"
   ]
  },
  {
   "cell_type": "code",
   "execution_count": 4,
   "metadata": {},
   "outputs": [
    {
     "name": "stdout",
     "output_type": "stream",
     "text": [
      "Gurobi Optimizer version 10.0.3 build v10.0.3rc0 (mac64[rosetta2])\n",
      "\n",
      "CPU model: Apple M2\n",
      "Thread count: 8 physical cores, 8 logical processors, using up to 8 threads\n",
      "\n",
      "Optimize a model with 7996 rows, 10352 columns and 17876 nonzeros\n",
      "Model fingerprint: 0x83af478f\n",
      "Variable types: 7680 continuous, 2672 integer (0 binary)\n",
      "Coefficient statistics:\n",
      "  Matrix range     [1e+00, 2e+01]\n",
      "  Objective range  [1e-06, 1e+00]\n",
      "  Bounds range     [0e+00, 0e+00]\n",
      "  RHS range        [2e+00, 5e+01]\n",
      "Found heuristic solution: objective 823.3500000\n",
      "Presolve removed 7460 rows and 7580 columns\n",
      "Presolve time: 0.01s\n",
      "Presolved: 536 rows, 2772 columns, 5654 nonzeros\n",
      "Variable types: 625 continuous, 2147 integer (1 binary)\n",
      "\n",
      "Root relaxation: objective 3.059750e+02, 467 iterations, 0.00 seconds (0.00 work units)\n",
      "\n",
      "    Nodes    |    Current Node    |     Objective Bounds      |     Work\n",
      " Expl Unexpl |  Obj  Depth IntInf | Incumbent    BestBd   Gap | It/Node Time\n",
      "\n",
      "*    0     0               0     305.9750090  305.97501  0.00%     -    0s\n",
      "\n",
      "Explored 1 nodes (467 simplex iterations) in 0.03 seconds (0.02 work units)\n",
      "Thread count was 8 (of 8 available processors)\n",
      "\n",
      "Solution count 2: 305.975 823.35 \n",
      "\n",
      "Optimal solution found (tolerance 1.00e-04)\n",
      "Best objective 3.059750090000e+02, best bound 3.059750090000e+02, gap 0.0000%\n"
     ]
    }
   ],
   "source": [
    "# FLEX MODEL\n",
    "arguments = {\n",
    "    'model': 'flex', \n",
    "    'instance': instance_file,\n",
    "    'outsourcing_cost_multiplier': OC,\n",
    "    'regional_multiplier': RM,\n",
    "    'global_multiplier': GM,\n",
    "    'max_n_shifts': 10,\n",
    "    'output': 'output.txt'\n",
    "}\n",
    "\n",
    "# Create a Namespace object from the dictionary\n",
    "args = Namespace(**arguments)\n",
    "\n",
    "i = Instance(args=args)\n",
    "solver = Solver(args=args, i=i)\n",
    "\n",
    "results = solver.solve_flex()"
   ]
  }
 ],
 "metadata": {
  "kernelspec": {
   "display_name": "base",
   "language": "python",
   "name": "python3"
  },
  "language_info": {
   "codemirror_mode": {
    "name": "ipython",
    "version": 3
   },
   "file_extension": ".py",
   "mimetype": "text/x-python",
   "name": "python",
   "nbconvert_exporter": "python",
   "pygments_lexer": "ipython3",
   "version": "3.11.5"
  }
 },
 "nbformat": 4,
 "nbformat_minor": 2
}
