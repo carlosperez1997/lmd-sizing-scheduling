{
 "cells": [
  {
   "cell_type": "code",
   "execution_count": 17,
   "metadata": {},
   "outputs": [],
   "source": [
    "from solver_alberto import Instance, Solver \n",
    "from argparse import Namespace"
   ]
  },
  {
   "cell_type": "code",
   "execution_count": 18,
   "metadata": {},
   "outputs": [],
   "source": [
    "# READ SHIFTS\n",
    "city = 'frankfurt'\n",
    "demand_baseline = \"1.00\"\n",
    "demand_type = \"doublepeak\"\n",
    "outsourcing_cost_multiplier = 1.5\n",
    "model = \"peak\" \n",
    "OC = 1.5\n",
    "RM = 1.5\n",
    "GM = 0.8\n",
    "max_n_shift = 100\n",
    "instance_file = f'instances/{city}_db={demand_baseline}_dt={demand_type}.json'"
   ]
  },
  {
   "cell_type": "code",
   "execution_count": 19,
   "metadata": {},
   "outputs": [
    {
     "name": "stdout",
     "output_type": "stream",
     "text": [
      "Gurobi Optimizer version 10.0.3 build v10.0.3rc0 (mac64[rosetta2])\n",
      "\n",
      "CPU model: Apple M2\n",
      "Thread count: 8 physical cores, 8 logical processors, using up to 8 threads\n",
      "\n",
      "Optimize a model with 7936 rows, 9840 columns and 14566 nonzeros\n",
      "Model fingerprint: 0x79a16377\n",
      "Variable types: 7680 continuous, 2160 integer (0 binary)\n",
      "Coefficient statistics:\n",
      "  Matrix range     [1e+00, 2e+01]\n",
      "  Objective range  [1e-06, 1e+00]\n",
      "  Bounds range     [0e+00, 0e+00]\n",
      "  RHS range        [2e+00, 6e+01]\n",
      "Found heuristic solution: objective 793.8000000\n",
      "Presolve removed 7681 rows and 8716 columns\n",
      "Presolve time: 0.03s\n",
      "Presolved: 255 rows, 1124 columns, 2477 nonzeros\n",
      "Found heuristic solution: objective 571.8250070\n",
      "Variable types: 256 continuous, 868 integer (26 binary)\n",
      "\n",
      "Root relaxation: objective 3.519167e+02, 218 iterations, 0.00 seconds (0.00 work units)\n",
      "\n",
      "    Nodes    |    Current Node    |     Objective Bounds      |     Work\n",
      " Expl Unexpl |  Obj  Depth IntInf | Incumbent    BestBd   Gap | It/Node Time\n",
      "\n",
      "*    0     0               0     351.9166777  351.91668  0.00%     -    0s\n",
      "\n",
      "Explored 1 nodes (218 simplex iterations) in 0.05 seconds (0.02 work units)\n",
      "Thread count was 8 (of 8 available processors)\n",
      "\n",
      "Solution count 3: 351.917 571.825 793.8 \n",
      "\n",
      "Optimal solution found (tolerance 1.00e-04)\n",
      "Best objective 3.519166776667e+02, best bound 3.519166776667e+02, gap 0.0000%\n"
     ]
    }
   ],
   "source": [
    "# FIXED MODEL\n",
    "arguments = {\n",
    "    'model': 'fixed', \n",
    "    'instance': instance_file,\n",
    "    'outsourcing_cost_multiplier': OC,\n",
    "    'regional_multiplier': RM,\n",
    "    'global_multiplier': GM,\n",
    "    'max_n_shifts': 10,\n",
    "    'output': 'output.txt'\n",
    "}\n",
    "\n",
    "# Create a Namespace object from the dictionary\n",
    "args = Namespace(**arguments)\n",
    "\n",
    "i = Instance(args=args)\n",
    "solver = Solver(args=args, i=i)\n",
    "\n",
    "results = solver.solve_fixed()"
   ]
  },
  {
   "cell_type": "code",
   "execution_count": 20,
   "metadata": {},
   "outputs": [
    {
     "name": "stdout",
     "output_type": "stream",
     "text": [
      "Gurobi Optimizer version 10.0.3 build v10.0.3rc0 (mac64[rosetta2])\n",
      "\n",
      "CPU model: Apple M2\n",
      "Thread count: 8 physical cores, 8 logical processors, using up to 8 threads\n",
      "\n",
      "Optimize a model with 7996 rows, 10352 columns and 15554 nonzeros\n",
      "Model fingerprint: 0x2fb00e70\n",
      "Variable types: 7680 continuous, 2672 integer (0 binary)\n",
      "Coefficient statistics:\n",
      "  Matrix range     [1e+00, 2e+01]\n",
      "  Objective range  [1e-06, 1e+00]\n",
      "  Bounds range     [0e+00, 0e+00]\n",
      "  RHS range        [2e+00, 6e+01]\n",
      "Found heuristic solution: objective 793.8000000\n",
      "Presolve removed 7462 rows and 7647 columns\n",
      "Presolve time: 0.01s\n",
      "Presolved: 534 rows, 2705 columns, 5585 nonzeros\n",
      "Variable types: 505 continuous, 2200 integer (54 binary)\n",
      "\n",
      "Root relaxation: objective 3.413417e+02, 722 iterations, 0.00 seconds (0.00 work units)\n",
      "\n",
      "    Nodes    |    Current Node    |     Objective Bounds      |     Work\n",
      " Expl Unexpl |  Obj  Depth IntInf | Incumbent    BestBd   Gap | It/Node Time\n",
      "\n",
      "*    0     0               0     341.3416737  341.34167  0.00%     -    0s\n",
      "\n",
      "Explored 1 nodes (722 simplex iterations) in 0.03 seconds (0.02 work units)\n",
      "Thread count was 8 (of 8 available processors)\n",
      "\n",
      "Solution count 2: 341.342 793.8 \n",
      "\n",
      "Optimal solution found (tolerance 1.00e-04)\n",
      "Best objective 3.413416736667e+02, best bound 3.413416736667e+02, gap 0.0000%\n"
     ]
    }
   ],
   "source": [
    "# FLEX MODEL\n",
    "arguments = {\n",
    "    'model': 'flex', \n",
    "    'instance': instance_file,\n",
    "    'outsourcing_cost_multiplier': OC,\n",
    "    'regional_multiplier': RM,\n",
    "    'global_multiplier': GM,\n",
    "    'max_n_shifts': 10,\n",
    "    'output': 'output.txt'\n",
    "}\n",
    "\n",
    "# Create a Namespace object from the dictionary\n",
    "args = Namespace(**arguments)\n",
    "\n",
    "i = Instance(args=args)\n",
    "solver = Solver(args=args, i=i)\n",
    "\n",
    "results = solver.solve_flex()"
   ]
  }
 ],
 "metadata": {
  "kernelspec": {
   "display_name": "base",
   "language": "python",
   "name": "python3"
  },
  "language_info": {
   "codemirror_mode": {
    "name": "ipython",
    "version": 3
   },
   "file_extension": ".py",
   "mimetype": "text/x-python",
   "name": "python",
   "nbconvert_exporter": "python",
   "pygments_lexer": "ipython3",
   "version": "3.11.5"
  }
 },
 "nbformat": 4,
 "nbformat_minor": 2
}
