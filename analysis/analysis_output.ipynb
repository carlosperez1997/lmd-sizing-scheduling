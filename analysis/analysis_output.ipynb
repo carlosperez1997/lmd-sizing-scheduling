{
 "cells": [
  {
   "cell_type": "code",
   "execution_count": 6,
   "metadata": {},
   "outputs": [],
   "source": [
    "from glob import glob\n",
    "from os import path\n",
    "from matplotlib.patches import Patch\n",
    "from matplotlib.lines import Line2D\n",
    "from matplotlib.legend_handler import HandlerTuple\n",
    "import matplotlib.pyplot as plt\n",
    "import seaborn as sns\n",
    "import json\n",
    "import pandas as pd\n",
    "\n",
    "import sys\n",
    "sys.path.append('../solver')\n",
    "\n",
    "# from solver import Instance\n",
    "\n",
    "from argparse import Namespace\n",
    "from solver_output import run_solver_output"
   ]
  },
  {
   "cell_type": "markdown",
   "metadata": {},
   "source": [
    "The solver is a single Python script, contained in `solver/solver.py`.\n",
    "It takes the following parameters:\n",
    "* `-m` to specify the model name (`base`, `fixed`, `partflex`, or `flex`).\n",
    "* `-i` to specify the location of the instance file.\n",
    "* `-c` to specify the outsourcing cost multiplier (parameter OC in the paper).\n",
    "* `-r` to specify the regional bound multiplier (parameter RM in the paper).\n",
    "* `-g` to specify the global bound multiplier (parameter GM in the paper).\n",
    "* `-u` to specify the maximum number of shift start times for the `partflex` model (parameter $\\mu$ in the paper).\n",
    "* `-o` to specify the location of the JSON solution file produced by the solver."
   ]
  },
  {
   "cell_type": "code",
   "execution_count": null,
   "metadata": {},
   "outputs": [],
   "source": [
    "\n",
    "\n",
    "# Now you can call run_solver directly\n",
    "run_solver(model='base', instance='example_instance.txt', outsourcing_cost_multiplier=1.5, regional_multiplier=1.2, global_multiplier=1.1)\n"
   ]
  }
 ],
 "metadata": {
  "kernelspec": {
   "display_name": "tactical-lmd",
   "language": "python",
   "name": "python3"
  },
  "language_info": {
   "codemirror_mode": {
    "name": "ipython",
    "version": 3
   },
   "file_extension": ".py",
   "mimetype": "text/x-python",
   "name": "python",
   "nbconvert_exporter": "python",
   "pygments_lexer": "ipython3",
   "version": "3.10.12"
  }
 },
 "nbformat": 4,
 "nbformat_minor": 2
}
