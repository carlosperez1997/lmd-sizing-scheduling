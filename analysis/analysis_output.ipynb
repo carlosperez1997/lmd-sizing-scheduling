{
 "cells": [
  {
   "cell_type": "code",
   "execution_count": 1,
   "metadata": {},
   "outputs": [],
   "source": [
    "from glob import glob\n",
    "from os import path\n",
    "from matplotlib.patches import Patch\n",
    "from matplotlib.lines import Line2D\n",
    "from matplotlib.legend_handler import HandlerTuple\n",
    "import matplotlib.pyplot as plt\n",
    "import seaborn as sns\n",
    "import json\n",
    "import pandas as pd\n",
    "\n",
    "# from solver import Instance\n",
    "\n",
    "from argparse import Namespace\n",
    "import sys\n",
    "sys.path.append('../solver')\n",
    "# from solver_output import practice_print\n",
    "from solver_output import run_solver_output"
   ]
  },
  {
   "cell_type": "markdown",
   "metadata": {},
   "source": [
    "The solver is a single Python script, contained in `solver/solver.py`.\n",
    "It takes the following parameters:\n",
    "* `-m` to specify the model name (`base`, `fixed`, `partflex`, or `flex`).\n",
    "* `-i` to specify the location of the instance file.\n",
    "* `-c` to specify the outsourcing cost multiplier (parameter OC in the paper).\n",
    "* `-r` to specify the regional bound multiplier (parameter RM in the paper).\n",
    "* `-g` to specify the global bound multiplier (parameter GM in the paper).\n",
    "* `-u` to specify the maximum number of shift start times for the `partflex` model (parameter $\\mu$ in the paper).\n",
    "* `-o` to specify the location of the JSON solution file produced by the solver."
   ]
  },
  {
   "cell_type": "code",
   "execution_count": 3,
   "metadata": {},
   "outputs": [
    {
     "name": "stdout",
     "output_type": "stream",
     "text": [
      "in instance\n",
      "in solver\n",
      "Gurobi Optimizer version 11.0.1 build v11.0.1rc0 (linux64 - \"Ubuntu 22.04.4 LTS\")\n",
      "\n",
      "CPU model: Intel(R) Core(TM) i7-8565U CPU @ 1.80GHz, instruction set [SSE2|AVX|AVX2]\n",
      "Thread count: 4 physical cores, 8 logical processors, using up to 8 threads\n",
      "\n",
      "Optimize a model with 14684 rows, 22728 columns and 29986 nonzeros\n",
      "Model fingerprint: 0x3f258453\n",
      "Variable types: 14160 continuous, 8568 integer (0 binary)\n",
      "Coefficient statistics:\n",
      "  Matrix range     [1e+00, 1e+01]\n",
      "  Objective range  [1e-06, 1e+00]\n",
      "  Bounds range     [0e+00, 0e+00]\n",
      "  RHS range        [1e+00, 2e+01]\n",
      "Found heuristic solution: objective 550.8400081\n",
      "Found heuristic solution: objective 550.8399961\n",
      "Presolve removed 13812 rows and 14966 columns\n",
      "Presolve time: 0.03s\n",
      "Presolved: 872 rows, 7762 columns, 16019 nonzeros\n",
      "Found heuristic solution: objective 550.8400000\n",
      "Variable types: 673 continuous, 7089 integer (94 binary)\n",
      "\n",
      "Root relaxation: objective 4.460600e+02, 640 iterations, 0.00 seconds (0.00 work units)\n",
      "\n",
      "    Nodes    |    Current Node    |     Objective Bounds      |     Work\n",
      " Expl Unexpl |  Obj  Depth IntInf | Incumbent    BestBd   Gap | It/Node Time\n",
      "\n",
      "*    0     0               0     446.0600090  446.06001  0.00%     -    0s\n",
      "\n",
      "Explored 1 nodes (640 simplex iterations) in 0.07 seconds (0.04 work units)\n",
      "Thread count was 8 (of 8 available processors)\n",
      "\n",
      "Solution count 3: 446.06 550.84 550.84 \n",
      "\n",
      "Optimal solution found (tolerance 1.00e-04)\n",
      "Best objective 4.460600090000e+02, best bound 4.460600090000e+02, gap 0.0000%\n",
      "Results saved to ../results/results_output/results_output_berlin_db=0.50_dt=atend_oc=1.2_rm=0.75_gm=0.6_model=flex.json\n"
     ]
    }
   ],
   "source": [
    "\n",
    "file = 'berlin_db=0.50_dt=atend.json'\n",
    "\n",
    "instance_ = f\"../instances/{file}\"\n",
    "\n",
    "run_solver_output(model='flex', instance=instance_, outsourcing_cost_multiplier=1.2, regional_multiplier=.75, global_multiplier=.6)\n"
   ]
  }
 ],
 "metadata": {
  "kernelspec": {
   "display_name": "tactical-lmd",
   "language": "python",
   "name": "python3"
  },
  "language_info": {
   "codemirror_mode": {
    "name": "ipython",
    "version": 3
   },
   "file_extension": ".py",
   "mimetype": "text/x-python",
   "name": "python",
   "nbconvert_exporter": "python",
   "pygments_lexer": "ipython3",
   "version": "3.10.12"
  }
 },
 "nbformat": 4,
 "nbformat_minor": 2
}
