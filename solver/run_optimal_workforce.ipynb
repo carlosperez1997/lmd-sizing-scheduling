{
 "cells": [
  {
   "cell_type": "code",
   "execution_count": null,
   "metadata": {},
   "outputs": [],
   "source": [
    "from glob import glob\n",
    "from os import path\n",
    "from matplotlib.patches import Patch\n",
    "from matplotlib.lines import Line2D\n",
    "from matplotlib.legend_handler import HandlerTuple\n",
    "import matplotlib.pyplot as plt\n",
    "import seaborn as sns\n",
    "import json\n",
    "import pandas as pd\n",
    "import os\n",
    "import numpy as np\n",
    "import re\n",
    "\n",
    "# from solver import Instance\n",
    "\n",
    "from argparse import Namespace\n",
    "import sys\n",
    "sys.path.append('../solver')\n",
    "# from solver_output import practice_print\n",
    "from solver_rostering import run_solver_output\n",
    "\n"
   ]
  },
  {
   "cell_type": "code",
   "execution_count": null,
   "metadata": {},
   "outputs": [],
   "source": [
    "# #stopped running cause it would be a gazillion things and we can run it if/when we need it\n",
    "# # for file in os.listdir(r'../instances'):\n",
    "# for file in ['berlin_db=0.50_dt=atend.json','berlin_db=0.50_dt=doublepeak.json','berlin_db=0.50_dt=peak.json','berlin_db=0.50_dt=peak.json']:\n",
    "#     instance_ = f\"../instances/{file}\"\n",
    "#     for OC in [1.2, 1.5, 1.8, 2.0, 2.5]:\n",
    "#         for RM in [0.75, 1.0, 1.5, 3.0, 5.0]:\n",
    "#             for GM in [0.6, 0.7, 0.8, 0.9, 1.0]:\n",
    "#                 run_solver_output(model='fixed', instance=instance_, outsourcing_cost_multiplier=OC, regional_multiplier=RM, global_multiplier=GM)\n",
    "#                 run_solver_output(model='flex', instance=instance_, outsourcing_cost_multiplier=OC, regional_multiplier=RM, global_multiplier=GM)    \n",
    "#                 for max_n_shift in range(2,5):\n",
    "#                     run_solver_output(model='partflex', instance=instance_, outsourcing_cost_multiplier=OC, regional_multiplier=RM, global_multiplier=GM, max_n_shifts=max_n_shift)\n",
    "\n",
    "#stopped running cause it would be a gazillion things and we can run it if/when we need it\n",
    "# for file in os.listdir(r'../instances'):\n",
    "for file in ['berlin_db=0.50_dt=atend.json','berlin_db=0.50_dt=doublepeak.json','berlin_db=0.50_dt=peak.json','berlin_db=0.50_dt=peak.json']:\n",
    "    instance_ = f\"../instances/{file}\"\n",
    "    for OC in [1.2]:\n",
    "        for RM in [0.75]:\n",
    "            for GM in [0.6]:\n",
    "                run_solver_output(model='fixed', instance=instance_, outsourcing_cost_multiplier=OC, regional_multiplier=RM, global_multiplier=GM)\n",
    "                run_solver_output(model='flex', instance=instance_, outsourcing_cost_multiplier=OC, regional_multiplier=RM, global_multiplier=GM)    \n",
    "                for max_n_shift in range(2,5):\n",
    "                    run_solver_output(model='partflex', instance=instance_, outsourcing_cost_multiplier=OC, regional_multiplier=RM, global_multiplier=GM, max_n_shifts=max_n_shift)"
   ]
  }
 ],
 "metadata": {
  "language_info": {
   "name": "python"
  }
 },
 "nbformat": 4,
 "nbformat_minor": 2
}
