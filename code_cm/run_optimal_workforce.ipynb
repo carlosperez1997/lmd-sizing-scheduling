{
 "cells": [
  {
   "cell_type": "code",
   "execution_count": 1,
   "metadata": {},
   "outputs": [],
   "source": [
    "from glob import glob\n",
    "from os import path\n",
    "from matplotlib.patches import Patch\n",
    "from matplotlib.lines import Line2D\n",
    "from matplotlib.legend_handler import HandlerTuple\n",
    "import matplotlib.pyplot as plt\n",
    "import seaborn as sns\n",
    "import json\n",
    "import pandas as pd\n",
    "import os\n",
    "import numpy as np\n",
    "import re\n",
    "from os.path import basename, splitext\n",
    "\n",
    "# from solver import Instance\n",
    "\n",
    "from argparse import Namespace\n",
    "import sys\n",
    "sys.path.append('../solver')\n",
    "# from solver_output import practice_print\n",
    "from solver_rostering import run_roster_solver_results"
   ]
  },
  {
   "cell_type": "code",
   "execution_count": 2,
   "metadata": {},
   "outputs": [
    {
     "name": "stdout",
     "output_type": "stream",
     "text": [
      "args created\n",
      "-initialization finished\n",
      "-compute data finished\n",
      "=i created\n",
      "=solver created\n",
      "Set parameter Username\n",
      "Academic license - for non-commercial use only - expires 2025-05-06\n",
      "+decision variables finished\n",
      "+constraints finished\n",
      "Gurobi Optimizer version 11.0.1 build v11.0.1rc0 (linux64 - \"Ubuntu 22.04.4 LTS\")\n",
      "\n",
      "CPU model: Intel(R) Core(TM) i7-8565U CPU @ 1.80GHz, instruction set [SSE2|AVX|AVX2]\n",
      "Thread count: 4 physical cores, 8 logical processors, using up to 8 threads\n",
      "\n",
      "Optimize a model with 101000 rows, 115960 columns and 357704 nonzeros\n",
      "Model fingerprint: 0xaa8a8b2d\n",
      "Variable types: 99120 continuous, 16840 integer (16840 binary)\n",
      "Coefficient statistics:\n",
      "  Matrix range     [1e+00, 1e+10]\n",
      "  Objective range  [3e-02, 1e+00]\n",
      "  Bounds range     [1e+00, 1e+00]\n",
      "  RHS range        [1e+00, 5e+01]\n",
      "Warning: Model contains large matrix coefficients\n",
      "         Consider reformulating model or setting NumericFocus parameter\n",
      "         to avoid numerical issues.\n",
      "Presolve removed 96236 rows and 93739 columns\n",
      "Presolve time: 0.14s\n",
      "Presolved: 4764 rows, 22221 columns, 55076 nonzeros\n",
      "Variable types: 5846 continuous, 16375 integer (16375 binary)\n",
      "Found heuristic solution: objective 3405.6800000\n",
      "Found heuristic solution: objective 3405.0400000\n",
      "Found heuristic solution: objective 3405.0000000\n",
      "\n",
      "Root relaxation: objective 3.276600e+03, 3307 iterations, 0.04 seconds (0.03 work units)\n",
      "\n",
      "    Nodes    |    Current Node    |     Objective Bounds      |     Work\n",
      " Expl Unexpl |  Obj  Depth IntInf | Incumbent    BestBd   Gap | It/Node Time\n",
      "\n",
      "*    0     0               0    3276.6000000 3276.60000  0.00%     -    0s\n",
      "\n",
      "Explored 1 nodes (3307 simplex iterations) in 0.52 seconds (0.36 work units)\n",
      "Thread count was 8 (of 8 available processors)\n",
      "\n",
      "Solution count 4: 3276.6 3405 3405.04 3405.68 \n",
      "\n",
      "Optimal solution found (tolerance 1.00e-04)\n",
      "Best objective 3.276600000000e+03, best bound 3.276600000000e+03, gap 0.0000%\n"
     ]
    }
   ],
   "source": [
    "weekday_ = 'berlin_db=0.50_dt=doublepeak.json'\n",
    "weekend_ = 'berlin_db=0.50_dt=uniform.json'\n",
    "\n",
    "instance_file_weekday = f\"../instances/{weekday_}\"\n",
    "instance_file_weekend = f\"../instances/{weekend_}\"\n",
    "\n",
    "shift_file_weekday = f\"../shifts/{weekday_}\"\n",
    "shift_file_weekend = f\"../shifts/{weekend_}\"\n",
    "\n",
    "model = 'fixed'\n",
    "\n",
    "workforce_dict = {0:5, 1:5, 2:5, 3:5, 4:5}\n",
    "OC = 1.2\n",
    "RM = .75\n",
    "GM = 0.6\n",
    "h_min = 32\n",
    "h_max = 48\n",
    "max_n_diff = 3\n",
    "\n",
    "dict_results = run_roster_solver_results(model, instance_file_weekday, shift_file_weekday, instance_file_weekend, shift_file_weekend, workforce_dict, OC, RM, GM, h_min, h_max, max_n_diff)"
   ]
  },
  {
   "cell_type": "code",
   "execution_count": 3,
   "metadata": {},
   "outputs": [
    {
     "data": {
      "text/plain": [
       "{'instance': ['berlin_db=0.50'],\n",
       " 'city': ['berlin'],\n",
       " 'demand_baseline': [0.5],\n",
       " 'outsourcing_cost_multiplier': [1.2],\n",
       " 'region_multiplier': [0.75],\n",
       " 'global_multiplier': [0.6],\n",
       " 'model': ['fixed'],\n",
       " 'max_n_shifts': [nan],\n",
       " 'workforce_size': [20],\n",
       " 'wage_costs': [20],\n",
       " 'objective_value': [3276.6000000000986],\n",
       " 'objective_value_post_hire': [3256.6000000000986]}"
      ]
     },
     "execution_count": 3,
     "metadata": {},
     "output_type": "execute_result"
    }
   ],
   "source": [
    "dict_results"
   ]
  },
  {
   "cell_type": "code",
   "execution_count": 4,
   "metadata": {},
   "outputs": [
    {
     "name": "stdout",
     "output_type": "stream",
     "text": [
      "Gurobi Optimizer version 11.0.1 build v11.0.1rc0 (linux64 - \"Ubuntu 22.04.4 LTS\")\n",
      "\n",
      "CPU model: Intel(R) Core(TM) i7-8565U CPU @ 1.80GHz, instruction set [SSE2|AVX|AVX2]\n",
      "Thread count: 4 physical cores, 8 logical processors, using up to 8 threads\n",
      "\n",
      "Optimize a model with 101120 rows, 116045 columns and 469853 nonzeros\n",
      "Model fingerprint: 0x71249570\n",
      "Variable types: 99120 continuous, 16925 integer (16925 binary)\n",
      "Coefficient statistics:\n",
      "  Matrix range     [1e+00, 1e+10]\n",
      "  Objective range  [3e-02, 1e+00]\n",
      "  Bounds range     [1e+00, 1e+00]\n",
      "  RHS range        [1e+00, 6e+01]\n",
      "Warning: Model contains large matrix coefficients\n",
      "         Consider reformulating model or setting NumericFocus parameter\n",
      "         to avoid numerical issues.\n",
      "Found heuristic solution: objective 9763.6000000\n",
      "Presolve removed 95403 rows and 92002 columns\n",
      "Presolve time: 0.18s\n",
      "Presolved: 5717 rows, 24043 columns, 61288 nonzeros\n",
      "Variable types: 7779 continuous, 16264 integer (16175 binary)\n",
      "Found heuristic solution: objective 9452.2750000\n",
      "\n",
      "Root relaxation: objective 9.388925e+03, 126 iterations, 0.00 seconds (0.00 work units)\n",
      "\n",
      "    Nodes    |    Current Node    |     Objective Bounds      |     Work\n",
      " Expl Unexpl |  Obj  Depth IntInf | Incumbent    BestBd   Gap | It/Node Time\n",
      "\n",
      "*    0     0               0    9388.9250000 9388.92500  0.00%     -    0s\n",
      "\n",
      "Explored 1 nodes (126 simplex iterations) in 0.42 seconds (0.30 work units)\n",
      "Thread count was 8 (of 8 available processors)\n",
      "\n",
      "Solution count 3: 9388.92 9452.27 9763.6 \n",
      "\n",
      "Optimal solution found (tolerance 1.00e-04)\n",
      "Best objective 9.388925000000e+03, best bound 9.388925000000e+03, gap 0.0000%\n"
     ]
    }
   ],
   "source": [
    "weekday_ = 'berlin_db=1.00_dt=doublepeak.json'\n",
    "weekend_ = 'berlin_db=1.00_dt=uniform.json'\n",
    "\n",
    "instance_file_weekday = f\"../instances/{weekday_}\"\n",
    "instance_file_weekend = f\"../instances/{weekend_}\"\n",
    "\n",
    "shift_file_weekday = f\"../shifts/{weekday_}\"\n",
    "shift_file_weekend = f\"../shifts/{weekend_}\"\n",
    "\n",
    "model = 'partflex'\n",
    "max_n_shifts = 3\n",
    "\n",
    "workforce_dict = {0:5, 1:5, 2:5, 3:5, 4:5}\n",
    "OC = 1.5\n",
    "RM = 1.5\n",
    "GM = 0.8\n",
    "h_min = 32\n",
    "h_max = 48\n",
    "max_n_diff = 3\n",
    "\n",
    "dict_results = run_roster_solver_results(model, instance_file_weekday, shift_file_weekday, instance_file_weekend, shift_file_weekend, workforce_dict, OC, RM, GM, h_min, h_max, max_n_diff, max_n_shifts)"
   ]
  }
 ],
 "metadata": {
  "kernelspec": {
   "display_name": "Python 3",
   "language": "python",
   "name": "python3"
  },
  "language_info": {
   "codemirror_mode": {
    "name": "ipython",
    "version": 3
   },
   "file_extension": ".py",
   "mimetype": "text/x-python",
   "name": "python",
   "nbconvert_exporter": "python",
   "pygments_lexer": "ipython3",
   "version": "3.10.12"
  }
 },
 "nbformat": 4,
 "nbformat_minor": 2
}
