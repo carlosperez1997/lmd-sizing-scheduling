{
 "cells": [
  {
   "cell_type": "code",
   "execution_count": 1,
   "metadata": {},
   "outputs": [],
   "source": [
    "from glob import glob\n",
    "from os import path\n",
    "from matplotlib.patches import Patch\n",
    "from matplotlib.lines import Line2D\n",
    "from matplotlib.legend_handler import HandlerTuple\n",
    "import matplotlib.pyplot as plt\n",
    "import seaborn as sns\n",
    "import json\n",
    "import pandas as pd\n",
    "import os\n",
    "import numpy as np\n",
    "import re\n",
    "\n",
    "# from solver import Instance\n",
    "\n",
    "from argparse import Namespace\n",
    "import sys\n",
    "sys.path.append('../solver')\n",
    "# from solver_output import practice_print\n",
    "from solver_rostering import run_roster_solver_results"
   ]
  },
  {
   "cell_type": "code",
   "execution_count": 2,
   "metadata": {},
   "outputs": [
    {
     "name": "stdout",
     "output_type": "stream",
     "text": [
      "args created\n",
      "-initialization finished\n",
      "1\n",
      "2\n",
      "3\n",
      "[0, 4]\n",
      "3 6\n",
      "[0, 4, 0, 4, 0, 4, 0, 4, 0, 4, 0, 4]\n",
      "1\n",
      "2\n",
      "3\n",
      "[0, 4]\n",
      "1 6\n"
     ]
    },
    {
     "ename": "KeyError",
     "evalue": "1",
     "output_type": "error",
     "traceback": [
      "\u001b[0;31m---------------------------------------------------------------------------\u001b[0m",
      "\u001b[0;31mKeyError\u001b[0m                                  Traceback (most recent call last)",
      "Cell \u001b[0;32mIn[2], line 18\u001b[0m\n\u001b[1;32m     15\u001b[0m GM \u001b[38;5;241m=\u001b[39m \u001b[38;5;241m0.6\u001b[39m\n\u001b[1;32m     16\u001b[0m n_days \u001b[38;5;241m=\u001b[39m \u001b[38;5;241m7\u001b[39m\n\u001b[0;32m---> 18\u001b[0m dict_results \u001b[38;5;241m=\u001b[39m \u001b[43mrun_roster_solver_results\u001b[49m\u001b[43m(\u001b[49m\u001b[43mmodel\u001b[49m\u001b[43m,\u001b[49m\u001b[43m \u001b[49m\u001b[43minstance_file_weekday\u001b[49m\u001b[43m,\u001b[49m\u001b[43m \u001b[49m\u001b[43mshift_file_weekday\u001b[49m\u001b[43m,\u001b[49m\u001b[43m \u001b[49m\u001b[43minstance_file_weekend\u001b[49m\u001b[43m,\u001b[49m\u001b[43m \u001b[49m\u001b[43mshift_file_weekend\u001b[49m\u001b[43m,\u001b[49m\u001b[43m \u001b[49m\u001b[43mworkforce_dict\u001b[49m\u001b[43m,\u001b[49m\u001b[43m \u001b[49m\u001b[43mOC\u001b[49m\u001b[43m,\u001b[49m\u001b[43m \u001b[49m\u001b[43mRM\u001b[49m\u001b[43m,\u001b[49m\u001b[43m \u001b[49m\u001b[43mGM\u001b[49m\u001b[43m,\u001b[49m\u001b[43m \u001b[49m\u001b[43mn_days\u001b[49m\u001b[43m)\u001b[49m\n",
      "File \u001b[0;32m~/Documents/VSCode/Term3/Masters_Thesis/lmd-sizing-scheduling/solver/solver_rostering.py:568\u001b[0m, in \u001b[0;36mrun_roster_solver_results\u001b[0;34m(model, instance_file_weekday, shift_file_weekday, instance_file_weekend, shift_file_weekend, workforce_dict, outsourcing_cost_multiplier, regional_multiplier, global_multiplier, n_days, max_n_shifts, output)\u001b[0m\n\u001b[1;32m    565\u001b[0m \u001b[38;5;28mprint\u001b[39m(\u001b[38;5;124m\"\u001b[39m\u001b[38;5;124margs created\u001b[39m\u001b[38;5;124m\"\u001b[39m)\n\u001b[1;32m    567\u001b[0m \u001b[38;5;66;03m# Assuming Instance and Solver classes are defined above in this script\u001b[39;00m\n\u001b[0;32m--> 568\u001b[0m i \u001b[38;5;241m=\u001b[39m \u001b[43mInstance\u001b[49m\u001b[43m(\u001b[49m\u001b[43margs\u001b[49m\u001b[38;5;241;43m=\u001b[39;49m\u001b[43margs\u001b[49m\u001b[43m)\u001b[49m\n\u001b[1;32m    569\u001b[0m \u001b[38;5;28mprint\u001b[39m(\u001b[38;5;124m\"\u001b[39m\u001b[38;5;124m=i created\u001b[39m\u001b[38;5;124m\"\u001b[39m)\n\u001b[1;32m    570\u001b[0m solver \u001b[38;5;241m=\u001b[39m Solver(args\u001b[38;5;241m=\u001b[39margs, i\u001b[38;5;241m=\u001b[39mi)\n",
      "File \u001b[0;32m~/Documents/VSCode/Term3/Masters_Thesis/lmd-sizing-scheduling/solver/solver_rostering.py:142\u001b[0m, in \u001b[0;36mInstance.__init__\u001b[0;34m(self, args, **kwargs)\u001b[0m\n\u001b[1;32m    139\u001b[0m \u001b[38;5;28mprint\u001b[39m(\u001b[38;5;124m\"\u001b[39m\u001b[38;5;124m-initialization finished\u001b[39m\u001b[38;5;124m\"\u001b[39m)\n\u001b[1;32m    141\u001b[0m \u001b[38;5;66;03m#initialize the rest of the class arguments\u001b[39;00m\n\u001b[0;32m--> 142\u001b[0m \u001b[38;5;28;43mself\u001b[39;49m\u001b[38;5;241;43m.\u001b[39;49m\u001b[43m__compute_data\u001b[49m\u001b[43m(\u001b[49m\u001b[38;5;241;43m*\u001b[39;49m\u001b[38;5;241;43m*\u001b[39;49m\u001b[43mkwargs\u001b[49m\u001b[43m)\u001b[49m\n\u001b[1;32m    143\u001b[0m \u001b[38;5;28mprint\u001b[39m(\u001b[38;5;124m\"\u001b[39m\u001b[38;5;124m-compute data finished\u001b[39m\u001b[38;5;124m\"\u001b[39m)\n",
      "File \u001b[0;32m~/Documents/VSCode/Term3/Masters_Thesis/lmd-sizing-scheduling/solver/solver_rostering.py:272\u001b[0m, in \u001b[0;36mInstance.__compute_data\u001b[0;34m(self, **kwargs)\u001b[0m\n\u001b[1;32m    270\u001b[0m     \u001b[38;5;28mprint\u001b[39m(\u001b[38;5;28mself\u001b[39m\u001b[38;5;241m.\u001b[39mshifts[region,day])\n\u001b[1;32m    271\u001b[0m     \u001b[38;5;28mprint\u001b[39m(region, day)\n\u001b[0;32m--> 272\u001b[0m     \u001b[38;5;28mprint\u001b[39m(\u001b[38;5;28;43mself\u001b[39;49m\u001b[38;5;241;43m.\u001b[39;49m\u001b[43mshifts_distinct\u001b[49m\u001b[43m[\u001b[49m\u001b[43mregion\u001b[49m\u001b[43m]\u001b[49m)\n\u001b[1;32m    273\u001b[0m     \u001b[38;5;28mself\u001b[39m\u001b[38;5;241m.\u001b[39mshifts_distinct[region]\u001b[38;5;241m.\u001b[39mextend(\u001b[38;5;28mself\u001b[39m\u001b[38;5;241m.\u001b[39mshifts[region,day])\n\u001b[1;32m    274\u001b[0m \u001b[38;5;28;01melse\u001b[39;00m:\n",
      "\u001b[0;31mKeyError\u001b[0m: 1"
     ]
    }
   ],
   "source": [
    "weekday_ = 'berlin_db=0.50_dt=doublepeak.json'\n",
    "weekend_ = 'berlin_db=0.50_dt=uniform.json'\n",
    "\n",
    "instance_file_weekday = f\"../instances/{weekday_}\"\n",
    "instance_file_weekend = f\"../instances/{weekend_}\"\n",
    "\n",
    "shift_file_weekday = f\"../shifts/{weekday_}\"\n",
    "shift_file_weekend = f\"../shifts/{weekend_}\"\n",
    "\n",
    "model = 'fixed'\n",
    "\n",
    "workforce_dict = {0:5, 1:5, 2:5, 3:5, 4:5}\n",
    "OC = 1.2\n",
    "RM = .75\n",
    "GM = 0.6\n",
    "n_days = 7\n",
    "\n",
    "dict_results = run_roster_solver_results(model, instance_file_weekday, shift_file_weekday, instance_file_weekend, shift_file_weekend, workforce_dict, OC, RM, GM, n_days)"
   ]
  }
 ],
 "metadata": {
  "kernelspec": {
   "display_name": "Python 3",
   "language": "python",
   "name": "python3"
  },
  "language_info": {
   "codemirror_mode": {
    "name": "ipython",
    "version": 3
   },
   "file_extension": ".py",
   "mimetype": "text/x-python",
   "name": "python",
   "nbconvert_exporter": "python",
   "pygments_lexer": "ipython3",
   "version": "3.10.12"
  }
 },
 "nbformat": 4,
 "nbformat_minor": 2
}
