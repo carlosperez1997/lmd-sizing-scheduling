{
 "cells": [
  {
   "cell_type": "code",
   "execution_count": 1,
   "metadata": {},
   "outputs": [],
   "source": [
    "from solver import create_roster_json, Instance, Solver\n",
    "import pandas as pd"
   ]
  },
  {
   "cell_type": "code",
   "execution_count": 2,
   "metadata": {},
   "outputs": [],
   "source": [
    "from glob import glob\n",
    "from os import path\n",
    "from matplotlib.patches import Patch\n",
    "from matplotlib.lines import Line2D\n",
    "from matplotlib.legend_handler import HandlerTuple\n",
    "import matplotlib.pyplot as plt\n",
    "import seaborn as sns\n",
    "import json\n",
    "import pandas as pd\n",
    "import os\n",
    "import numpy as np\n",
    "import re\n",
    "from os.path import basename, splitext\n",
    "\n",
    "# from solver import Instance\n",
    "\n",
    "from argparse import Namespace\n",
    "import sys\n",
    "sys.path.append('../solver')\n",
    "# from solver_output import practice_print\n",
    "from solver_rostering_clarice import run_roster_solver_results, Instance as Instance_clarice, Solver as Solver_clarice"
   ]
  },
  {
   "cell_type": "code",
   "execution_count": 3,
   "metadata": {},
   "outputs": [],
   "source": [
    "# Define instance file\n",
    "demand_baseline = \"1.00\"\n",
    "model = \"fixed\"\n",
    "week_demand_type = \"doublepeak\" \n",
    "weekend_demand_type = \"uniform\"\n",
    "regional_multiplier = 1.5\n",
    "global_multiplier = 0.8\n",
    "outsourcing_cost_multiplier = 1.5 \n",
    "\n",
    "# Define rostering problem\n",
    "cost_courier=1\n",
    "min_hours_worked=32\n",
    "max_hours_worked=48\n",
    "max_unique_starts = 3\n",
    "shift_length = 8\n",
    "working_days = 6"
   ]
  },
  {
   "cell_type": "markdown",
   "metadata": {},
   "source": [
    "# Jonny"
   ]
  },
  {
   "cell_type": "code",
   "execution_count": 4,
   "metadata": {},
   "outputs": [
    {
     "name": "stdout",
     "output_type": "stream",
     "text": [
      "Set parameter Username\n",
      "Academic license - for non-commercial use only - expires 2024-10-12\n",
      "Gurobi Optimizer version 10.0.3 build v10.0.3rc0 (mac64[rosetta2])\n",
      "\n",
      "CPU model: Apple M2\n",
      "Thread count: 8 physical cores, 8 logical processors, using up to 8 threads\n",
      "\n",
      "Optimize a model with 105064 rows, 120224 columns and 177192 nonzeros\n",
      "Model fingerprint: 0x11871c00\n",
      "Variable types: 99120 continuous, 21104 integer (17800 binary)\n",
      "Coefficient statistics:\n",
      "  Matrix range     [1e+00, 1e+01]\n",
      "  Objective range  [3e-02, 1e+00]\n",
      "  Bounds range     [1e+00, 1e+00]\n",
      "  RHS range        [1e+00, 5e+01]\n",
      "Presolve removed 103472 rows and 113241 columns\n",
      "Presolve time: 0.52s\n",
      "Presolved: 1592 rows, 6983 columns, 16938 nonzeros\n",
      "Variable types: 1782 continuous, 5201 integer (5201 binary)\n",
      "Found heuristic solution: objective 3082.6200000\n",
      "Found heuristic solution: objective 3059.3000000\n",
      "\n",
      "Root relaxation: objective 2.973940e+03, 2294 iterations, 0.01 seconds (0.01 work units)\n",
      "\n",
      "    Nodes    |    Current Node    |     Objective Bounds      |     Work\n",
      " Expl Unexpl |  Obj  Depth IntInf | Incumbent    BestBd   Gap | It/Node Time\n",
      "\n",
      "*    0     0               0    2973.9400000 2973.94000  0.00%     -    0s\n",
      "\n",
      "Explored 1 nodes (2294 simplex iterations) in 0.66 seconds (0.58 work units)\n",
      "Thread count was 8 (of 8 available processors)\n",
      "\n",
      "Solution count 3: 2973.94 3059.3 3082.62 \n",
      "\n",
      "Optimal solution found (tolerance 1.00e-04)\n",
      "Best objective 2.973939999998e+03, best bound 2.973939999998e+03, gap 0.0000%\n"
     ]
    }
   ],
   "source": [
    "# Jonny: 2973.94\n",
    "demand_baseline = \"0.50\"\n",
    "outsourcing_cost_multiplier = 1.2\n",
    "regional_multiplier = 1.5\n",
    "global_multiplier = 0.8\n",
    "\n",
    "city = \"berlin\"\n",
    "model = \"partflex3\"\n",
    "\n",
    "create_roster_json(city, demand_baseline, model, week_demand_type, weekend_demand_type, regional_multiplier, global_multiplier, outsourcing_cost_multiplier)\n",
    "instance_name = f'{city}_db={demand_baseline}_weekdt={week_demand_type}_weekenddt={weekend_demand_type}_cout={outsourcing_cost_multiplier}_model={model}_rm={regional_multiplier}_gm={global_multiplier}.json'\n",
    "instance_jonny = Instance(instance_file=f'rostering_instances/{instance_name}', cost_courier=cost_courier, min_hours_worked=min_hours_worked, max_hours_worked=max_hours_worked, max_unique_starts=max_unique_starts, shift_length=shift_length, working_days=working_days)\n",
    "\n",
    "solver_jonny = Solver(instance_jonny)\n",
    "roster_results_jonny = solver_jonny.solve_roster()"
   ]
  },
  {
   "cell_type": "markdown",
   "metadata": {},
   "source": [
    "# Clarice"
   ]
  },
  {
   "cell_type": "code",
   "execution_count": 5,
   "metadata": {},
   "outputs": [],
   "source": [
    "demand_baseline = \"0.50\"\n",
    "outsourcing_cost_multiplier = 1.2\n",
    "regional_multiplier = 1.5\n",
    "global_multiplier = 0.8\n",
    "\n",
    "city = \"berlin\"\n",
    "model = \"partflex\""
   ]
  },
  {
   "cell_type": "code",
   "execution_count": 6,
   "metadata": {},
   "outputs": [],
   "source": [
    "base_file = 'berlin_db=0.50'\n",
    "\n",
    "#create a dataframe that can hold all result information\n",
    "\n",
    "list_results = []\n",
    "\n",
    "workforce_dict = {0:5, 1:5, 2:5, 3:5, 4:5}\n",
    "RM = 1.5\n",
    "GM = 0.8\n",
    "OC = 1.2\n",
    "h_min = 32\n",
    "h_max = 48\n",
    "max_n_diff = 3\n",
    "max_n_shifts = 3"
   ]
  },
  {
   "cell_type": "code",
   "execution_count": 7,
   "metadata": {},
   "outputs": [
    {
     "name": "stdout",
     "output_type": "stream",
     "text": [
      "Gurobi Optimizer version 10.0.3 build v10.0.3rc0 (mac64[rosetta2])\n",
      "\n",
      "CPU model: Apple M2\n",
      "Thread count: 8 physical cores, 8 logical processors, using up to 8 threads\n",
      "\n",
      "Optimize a model with 100820 rows, 115875 columns and 367859 nonzeros\n",
      "Model fingerprint: 0xad0e9482\n",
      "Variable types: 99120 continuous, 16755 integer (16755 binary)\n",
      "Coefficient statistics:\n",
      "  Matrix range     [1e+00, 1e+01]\n",
      "  Objective range  [3e-02, 1e+00]\n",
      "  Bounds range     [1e+00, 1e+00]\n",
      "  RHS range        [1e+00, 5e+01]\n",
      "Presolve removed 99743 rows and 110252 columns\n",
      "Presolve time: 0.48s\n",
      "Presolved: 1077 rows, 5623 columns, 13933 nonzeros\n",
      "Variable types: 1472 continuous, 4151 integer (4151 binary)\n",
      "Found heuristic solution: objective 3119.3800000\n",
      "\n",
      "Root relaxation: objective 2.973940e+03, 1830 iterations, 0.01 seconds (0.01 work units)\n",
      "\n",
      "    Nodes    |    Current Node    |     Objective Bounds      |     Work\n",
      " Expl Unexpl |  Obj  Depth IntInf | Incumbent    BestBd   Gap | It/Node Time\n",
      "\n",
      "*    0     0               0    2973.9400000 2973.94000  0.00%     -    0s\n",
      "\n",
      "Explored 1 nodes (1830 simplex iterations) in 0.61 seconds (0.56 work units)\n",
      "Thread count was 8 (of 8 available processors)\n",
      "\n",
      "Solution count 2: 2973.94 3119.38 \n",
      "\n",
      "Optimal solution found (tolerance 1.00e-04)\n",
      "Best objective 2.973939999998e+03, best bound 2.973939999998e+03, gap 0.0000%\n"
     ]
    }
   ],
   "source": [
    "weekday_ = f'{base_file}_dt=doublepeak.json'\n",
    "weekend_ = f'{base_file}_dt=uniform.json'\n",
    "\n",
    "instance_file_weekday = f\"../instances/{weekday_}\"\n",
    "instance_file_weekend = f\"../instances/{weekend_}\"\n",
    "\n",
    "shift_file_weekday = f\"../shifts/{weekday_}\"\n",
    "shift_file_weekend = f\"../shifts/{weekend_}\"\n",
    "      \n",
    "dict_results = run_roster_solver_results(model, instance_file_weekday, shift_file_weekday, instance_file_weekend, shift_file_weekend, workforce_dict, OC, RM, GM, h_min, h_max, max_n_diff, max_n_shifts)\n",
    "df_ = pd.DataFrame(dict_results)"
   ]
  },
  {
   "cell_type": "code",
   "execution_count": 8,
   "metadata": {},
   "outputs": [],
   "source": [
    "args = Namespace(\n",
    "    model=model,\n",
    "    instance_file_weekday=instance_file_weekday,\n",
    "    shift_file_weekday = shift_file_weekday,\n",
    "    instance_file_weekend=instance_file_weekend,\n",
    "    shift_file_weekend = shift_file_weekend,\n",
    "    workforce_dict = workforce_dict,\n",
    "\n",
    "    outsourcing_cost_multiplier=outsourcing_cost_multiplier,\n",
    "    regional_multiplier=regional_multiplier,\n",
    "    global_multiplier=global_multiplier,\n",
    "\n",
    "    h_min = h_min,\n",
    "    h_max = h_max,\n",
    "    max_n_diff = max_n_diff,\n",
    "    max_n_shifts=max_n_shifts\n",
    ")\n",
    "\n",
    "# Assuming Instance and Solver classes are defined above in this script\n",
    "instance_clarice = Instance_clarice(args=args)"
   ]
  },
  {
   "cell_type": "code",
   "execution_count": 9,
   "metadata": {},
   "outputs": [
    {
     "data": {
      "text/plain": [
       "{0: {0: [2], 1: [2], 2: [2], 3: [2]},\n",
       " 1: {0: [2], 1: [2], 2: [2], 3: [2]},\n",
       " 2: {0: [2], 1: [2], 2: [2], 3: [2]},\n",
       " 3: {0: [2], 1: [2], 2: [2], 3: [2]},\n",
       " 4: {0: [2], 1: [2], 2: [2], 3: [2]},\n",
       " 5: {0: [0, 1], 1: [0], 2: [0, 2, 4], 3: [0, 4]},\n",
       " 6: {0: [0, 1], 1: [0], 2: [0, 2, 4], 3: [0, 4]}}"
      ]
     },
     "execution_count": 9,
     "metadata": {},
     "output_type": "execute_result"
    }
   ],
   "source": [
    "# day, region\n",
    "instance_jonny.shifts_start"
   ]
  },
  {
   "cell_type": "code",
   "execution_count": 10,
   "metadata": {},
   "outputs": [
    {
     "data": {
      "text/plain": [
       "{3: [0, 2, 4], 1: [0, 2], 0: [0, 1, 2], 2: [0, 2, 4]}"
      ]
     },
     "execution_count": 10,
     "metadata": {},
     "output_type": "execute_result"
    }
   ],
   "source": [
    "instance_clarice.shifts_distinct"
   ]
  },
  {
   "cell_type": "code",
   "execution_count": 11,
   "metadata": {},
   "outputs": [
    {
     "data": {
      "text/plain": [
       "{3: [0, 2, 4], 1: [0, 2], 0: [0, 1, 2], 2: [0, 2, 4]}"
      ]
     },
     "execution_count": 11,
     "metadata": {},
     "output_type": "execute_result"
    }
   ],
   "source": [
    "#keys - (region, day): list of theta start times\n",
    "instance_clarice.shifts_distinct"
   ]
  },
  {
   "cell_type": "code",
   "execution_count": 12,
   "metadata": {},
   "outputs": [],
   "source": [
    "Solver_clarice = Solver_clarice(args=args, i=instance_clarice)"
   ]
  },
  {
   "cell_type": "code",
   "execution_count": 13,
   "metadata": {},
   "outputs": [
    {
     "name": "stdout",
     "output_type": "stream",
     "text": [
      "Gurobi Optimizer version 10.0.3 build v10.0.3rc0 (mac64[rosetta2])\n",
      "\n",
      "CPU model: Apple M2\n",
      "Thread count: 8 physical cores, 8 logical processors, using up to 8 threads\n",
      "\n",
      "Optimize a model with 100820 rows, 115875 columns and 367859 nonzeros\n",
      "Model fingerprint: 0xad0e9482\n",
      "Variable types: 99120 continuous, 16755 integer (16755 binary)\n",
      "Coefficient statistics:\n",
      "  Matrix range     [1e+00, 1e+01]\n",
      "  Objective range  [3e-02, 1e+00]\n",
      "  Bounds range     [1e+00, 1e+00]\n",
      "  RHS range        [1e+00, 5e+01]\n",
      "Presolve removed 99743 rows and 110252 columns\n",
      "Presolve time: 0.45s\n",
      "Presolved: 1077 rows, 5623 columns, 13933 nonzeros\n",
      "Variable types: 1472 continuous, 4151 integer (4151 binary)\n",
      "Found heuristic solution: objective 3119.3800000\n",
      "\n",
      "Root relaxation: objective 2.973940e+03, 1830 iterations, 0.01 seconds (0.01 work units)\n",
      "\n",
      "    Nodes    |    Current Node    |     Objective Bounds      |     Work\n",
      " Expl Unexpl |  Obj  Depth IntInf | Incumbent    BestBd   Gap | It/Node Time\n",
      "\n",
      "*    0     0               0    2973.9400000 2973.94000  0.00%     -    0s\n",
      "\n",
      "Explored 1 nodes (1830 simplex iterations) in 0.58 seconds (0.56 work units)\n",
      "Thread count was 8 (of 8 available processors)\n",
      "\n",
      "Solution count 2: 2973.94 3119.38 \n",
      "\n",
      "Optimal solution found (tolerance 1.00e-04)\n",
      "Best objective 2.973939999998e+03, best bound 2.973939999998e+03, gap 0.0000%\n"
     ]
    },
    {
     "data": {
      "text/plain": [
       "{'instance': ['berlin_db=0.50'],\n",
       " 'city': ['berlin'],\n",
       " 'demand_baseline': [0.5],\n",
       " 'outsourcing_cost_multiplier': [1.2],\n",
       " 'region_multiplier': [1.5],\n",
       " 'global_multiplier': [0.8],\n",
       " 'model': ['partflex'],\n",
       " 'max_n_shifts': [3],\n",
       " 'workforce_size': [20],\n",
       " 'wage_costs': [20],\n",
       " 'objective_value': [2973.9399999982033],\n",
       " 'objective_value_post_wage': [2953.9399999982033]}"
      ]
     },
     "execution_count": 13,
     "metadata": {},
     "output_type": "execute_result"
    }
   ],
   "source": [
    "Solver_clarice.solve_roster_results()"
   ]
  },
  {
   "cell_type": "code",
   "execution_count": 14,
   "metadata": {},
   "outputs": [
    {
     "data": {
      "text/plain": [
       "{(3, 0, 0): 4.0,\n",
       " (3, 0, 1): 4.0,\n",
       " (3, 0, 2): 4.0,\n",
       " (3, 0, 3): 4.0,\n",
       " (3, 0, 4): 4.0,\n",
       " (3, 0, 5): 4.0,\n",
       " (3, 0, 6): 0.0,\n",
       " (3, 1, 0): 4.0,\n",
       " (3, 1, 1): 4.0,\n",
       " (3, 1, 2): 4.0,\n",
       " (3, 1, 3): 4.0,\n",
       " (3, 1, 4): 4.0,\n",
       " (3, 1, 5): 0.0,\n",
       " (3, 1, 6): 4.0,\n",
       " (3, 2, 0): 4.0,\n",
       " (3, 2, 1): 4.0,\n",
       " (3, 2, 2): 4.0,\n",
       " (3, 2, 3): 4.0,\n",
       " (3, 2, 4): 4.0,\n",
       " (3, 2, 5): 4.0,\n",
       " (3, 2, 6): 0.0,\n",
       " (3, 3, 0): 4.0,\n",
       " (3, 3, 1): 4.0,\n",
       " (3, 3, 2): 4.0,\n",
       " (3, 3, 3): 4.0,\n",
       " (3, 3, 4): 4.0,\n",
       " (3, 3, 5): 4.0,\n",
       " (3, 3, 6): 0.0,\n",
       " (3, 4, 0): 4.0,\n",
       " (3, 4, 1): 4.0,\n",
       " (3, 4, 2): 4.0,\n",
       " (3, 4, 3): 4.0,\n",
       " (3, 4, 4): 4.0,\n",
       " (3, 4, 5): 0.0,\n",
       " (3, 4, 6): 4.0,\n",
       " (1, 5, 0): 4.0,\n",
       " (1, 5, 1): 4.0,\n",
       " (1, 5, 2): 4.0,\n",
       " (1, 5, 3): 4.0,\n",
       " (1, 5, 4): 4.0,\n",
       " (1, 5, 5): 4.0,\n",
       " (1, 5, 6): 4.0,\n",
       " (1, 6, 0): 4.0,\n",
       " (1, 6, 1): 4.0,\n",
       " (1, 6, 2): 4.0,\n",
       " (1, 6, 3): 4.0,\n",
       " (1, 6, 4): 4.0,\n",
       " (1, 6, 5): 4.0,\n",
       " (1, 6, 6): 4.0,\n",
       " (1, 7, 0): 4.0,\n",
       " (1, 7, 1): 4.0,\n",
       " (1, 7, 2): 4.0,\n",
       " (1, 7, 3): 4.0,\n",
       " (1, 7, 4): 4.0,\n",
       " (1, 7, 5): 4.0,\n",
       " (1, 7, 6): 4.0,\n",
       " (1, 8, 0): 4.0,\n",
       " (1, 8, 1): 4.0,\n",
       " (1, 8, 2): 4.0,\n",
       " (1, 8, 3): 4.0,\n",
       " (1, 8, 4): 4.0,\n",
       " (1, 8, 5): 4.0,\n",
       " (1, 8, 6): 4.0,\n",
       " (1, 9, 0): 4.0,\n",
       " (1, 9, 1): 4.0,\n",
       " (1, 9, 2): 4.0,\n",
       " (1, 9, 3): 4.0,\n",
       " (1, 9, 4): 4.0,\n",
       " (1, 9, 5): 4.0,\n",
       " (1, 9, 6): 4.0,\n",
       " (0, 10, 0): 4.0,\n",
       " (0, 10, 1): 4.0,\n",
       " (0, 10, 2): 4.0,\n",
       " (0, 10, 3): 4.0,\n",
       " (0, 10, 4): 4.0,\n",
       " (0, 10, 5): 3.0,\n",
       " (0, 10, 6): 3.0,\n",
       " (0, 11, 0): 4.0,\n",
       " (0, 11, 1): 4.0,\n",
       " (0, 11, 2): 4.0,\n",
       " (0, 11, 3): 4.0,\n",
       " (0, 11, 4): 4.0,\n",
       " (0, 11, 5): 3.0,\n",
       " (0, 11, 6): 3.0,\n",
       " (0, 12, 0): 4.0,\n",
       " (0, 12, 1): 4.0,\n",
       " (0, 12, 2): 4.0,\n",
       " (0, 12, 3): 4.0,\n",
       " (0, 12, 4): 4.0,\n",
       " (0, 12, 5): 3.0,\n",
       " (0, 12, 6): 3.0,\n",
       " (0, 13, 0): 4.0,\n",
       " (0, 13, 1): 4.0,\n",
       " (0, 13, 2): 4.0,\n",
       " (0, 13, 3): 4.0,\n",
       " (0, 13, 4): 4.0,\n",
       " (0, 13, 5): 3.0,\n",
       " (0, 13, 6): 3.0,\n",
       " (0, 14, 0): 4.0,\n",
       " (0, 14, 1): 4.0,\n",
       " (0, 14, 2): 4.0,\n",
       " (0, 14, 3): 4.0,\n",
       " (0, 14, 4): 4.0,\n",
       " (0, 14, 5): 3.0,\n",
       " (0, 14, 6): 3.0,\n",
       " (2, 15, 0): 4.0,\n",
       " (2, 15, 1): 4.0,\n",
       " (2, 15, 2): 4.0,\n",
       " (2, 15, 3): 4.0,\n",
       " (2, 15, 4): 4.0,\n",
       " (2, 15, 5): 0.0,\n",
       " (2, 15, 6): 0.0,\n",
       " (2, 16, 0): 4.0,\n",
       " (2, 16, 1): 4.0,\n",
       " (2, 16, 2): 4.0,\n",
       " (2, 16, 3): 4.0,\n",
       " (2, 16, 4): 4.0,\n",
       " (2, 16, 5): 0.0,\n",
       " (2, 16, 6): 0.0,\n",
       " (2, 17, 0): 4.0,\n",
       " (2, 17, 1): 4.0,\n",
       " (2, 17, 2): 4.0,\n",
       " (2, 17, 3): 4.0,\n",
       " (2, 17, 4): 4.0,\n",
       " (2, 17, 5): 0.0,\n",
       " (2, 17, 6): 0.0,\n",
       " (2, 18, 0): 4.0,\n",
       " (2, 18, 1): 4.0,\n",
       " (2, 18, 2): 4.0,\n",
       " (2, 18, 3): 4.0,\n",
       " (2, 18, 4): 4.0,\n",
       " (2, 18, 5): 0.0,\n",
       " (2, 18, 6): 0.0,\n",
       " (2, 19, 0): 4.0,\n",
       " (2, 19, 1): 4.0,\n",
       " (2, 19, 2): 4.0,\n",
       " (2, 19, 3): 4.0,\n",
       " (2, 19, 4): 4.0,\n",
       " (2, 19, 5): 0.0,\n",
       " (2, 19, 6): 0.0}"
      ]
     },
     "execution_count": 14,
     "metadata": {},
     "output_type": "execute_result"
    }
   ],
   "source": [
    "k = Solver_clarice.compute_k_sums()\n",
    "k"
   ]
  }
 ],
 "metadata": {
  "kernelspec": {
   "display_name": "tsp",
   "language": "python",
   "name": "python3"
  },
  "language_info": {
   "codemirror_mode": {
    "name": "ipython",
    "version": 3
   },
   "file_extension": ".py",
   "mimetype": "text/x-python",
   "name": "python",
   "nbconvert_exporter": "python",
   "pygments_lexer": "ipython3",
   "version": "3.11.5"
  }
 },
 "nbformat": 4,
 "nbformat_minor": 2
}
