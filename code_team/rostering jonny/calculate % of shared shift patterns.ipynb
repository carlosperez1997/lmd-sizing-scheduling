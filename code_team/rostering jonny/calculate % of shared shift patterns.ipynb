{
 "cells": [
  {
   "cell_type": "code",
   "execution_count": 1,
   "metadata": {},
   "outputs": [],
   "source": [
    "from glob import glob\n",
    "from os import path\n",
    "import seaborn as sns\n",
    "import json\n",
    "import os\n",
    "import numpy as np\n",
    "import pandas as pd\n",
    "import re\n",
    "from os.path import basename, splitext\n",
    "import time\n",
    "import pickle\n",
    "import json\n",
    "\n",
    "# from solver import Instance\n",
    "\n",
    "from argparse import Namespace\n",
    "import sys\n",
    "sys.path.append('../../solver')\n",
    "# from solver_output import practice_print\n",
    "from solver_rostering import run_roster_solver_objval_w_baseline"
   ]
  },
  {
   "cell_type": "code",
   "execution_count": 2,
   "metadata": {},
   "outputs": [],
   "source": [
    "# fixed params\n",
    "RM = 1.5\n",
    "GM = 0.8\n",
    "h_min = 32\n",
    "h_max = 48\n",
    "max_n_diff = 3\n",
    "\n",
    "refresh = False"
   ]
  },
  {
   "cell_type": "code",
   "execution_count": 3,
   "metadata": {},
   "outputs": [
    {
     "data": {
      "text/plain": [
       "['frankfurt_db=0.50',\n",
       " 'frankfurt_db=1.00',\n",
       " 'frankfurt_db=2.00',\n",
       " 'frankfurt_db=4.00',\n",
       " 'lyon_db=0.50',\n",
       " 'lyon_db=1.00',\n",
       " 'lyon_db=2.00',\n",
       " 'lyon_db=4.00',\n",
       " 'paris_db=0.50',\n",
       " 'paris_db=1.00',\n",
       " 'paris_db=2.00',\n",
       " 'paris_db=4.00']"
      ]
     },
     "execution_count": 3,
     "metadata": {},
     "output_type": "execute_result"
    }
   ],
   "source": [
    "list_city_dt = []\n",
    "\n",
    "for file_in in os.listdir(r'../../instances'):\n",
    "    base_file = splitext(basename(file_in))[0]\n",
    "    base_file_split = base_file.split('_')\n",
    "    file = base_file_split[0]+'_'+base_file_split[1]\n",
    "    list_city_dt.append(file)\n",
    "\n",
    "list_city_dt = list(set(list_city_dt))\n",
    "list_city_dt.sort()\n",
    "list_city_dt\n",
    "\n",
    "list_city_dt = [name for name in list_city_dt if 'berlin' not in name]\n",
    "list_city_dt"
   ]
  },
  {
   "cell_type": "code",
   "execution_count": 4,
   "metadata": {},
   "outputs": [],
   "source": [
    "def load_shift(shift_file, OC, RM, GM, model, max_n_shifts=None):\n",
    "    with open(shift_file, 'r') as file:\n",
    "        data = json.load(file)\n",
    "        df_shifts = pd.DataFrame(data)\n",
    "    df_shifts = df_shifts[(df_shifts['outsourcing_cost_multiplier']==OC)&(df_shifts['regional_multiplier']==RM)&(df_shifts['global_multiplier']==GM)]\n",
    "    #fixed or flex\n",
    "    if model in ['fixed','flex']:\n",
    "        df_shifts = df_shifts[df_shifts['model']==model]\n",
    "    #partflex\n",
    "    else:\n",
    "        df_shifts = df_shifts[(df_shifts['model']==model)&(df_shifts['max_n_shifts']==max_n_shifts)]\n",
    "    df_shifts.reset_index(drop = True, inplace=True)\n",
    "    df_shifts = df_shifts[['region','shifts_start','shifts_end']]\n",
    "    dict_shifts = df_shifts.set_index('region').to_dict(orient='index')\n",
    "    return dict_shifts"
   ]
  },
  {
   "cell_type": "code",
   "execution_count": 5,
   "metadata": {},
   "outputs": [
    {
     "name": "stdout",
     "output_type": "stream",
     "text": [
      "1.2 frankfurt_db=0.50 shifts don't match G2\n",
      "{0: {'shifts_start': {'0': 0, '1': 4}, 'shifts_end': {'0': 4, '1': 8}}, 1: {'shifts_start': {'0': 0, '1': 4}, 'shifts_end': {'0': 4, '1': 8}}, 2: {'shifts_start': {'0': 0, '1': 4}, 'shifts_end': {'0': 4, '1': 8}}, 3: {'shifts_start': {'0': 0, '1': 4}, 'shifts_end': {'0': 4, '1': 8}}}\n",
      "{0: {'shifts_start': {'0': 0, '1': 4}, 'shifts_end': {'0': 4, '1': 8}}, 1: {'shifts_start': {'0': 0, '1': 4}, 'shifts_end': {'0': 4, '1': 8}}, 2: {'shifts_start': {'0': 0, '1': 4}, 'shifts_end': {'0': 4, '1': 8}}, 3: {'shifts_start': {'0': 0, '1': 4}, 'shifts_end': {'0': 4, '1': 8}}}\n",
      "1.5 frankfurt_db=0.50 shifts don't match G2\n",
      "{0: {'shifts_start': {'0': 0, '1': 4}, 'shifts_end': {'0': 4, '1': 8}}, 1: {'shifts_start': {'0': 0, '1': 4}, 'shifts_end': {'0': 4, '1': 8}}, 2: {'shifts_start': {'0': 0, '1': 4}, 'shifts_end': {'0': 4, '1': 8}}, 3: {'shifts_start': {'0': 0, '1': 4}, 'shifts_end': {'0': 4, '1': 8}}}\n",
      "{0: {'shifts_start': {'0': 0, '1': 4}, 'shifts_end': {'0': 4, '1': 8}}, 1: {'shifts_start': {'0': 0, '1': 4}, 'shifts_end': {'0': 4, '1': 8}}, 2: {'shifts_start': {'0': 0, '1': 4}, 'shifts_end': {'0': 4, '1': 8}}, 3: {'shifts_start': {'0': 0, '1': 4}, 'shifts_end': {'0': 4, '1': 8}}}\n",
      "1.8 frankfurt_db=0.50 shifts don't match G1\n",
      "1.8 frankfurt_db=0.50 shifts don't match G2\n",
      "{0: {'shifts_start': {'0': 0, '1': 4}, 'shifts_end': {'0': 4, '1': 8}}, 1: {'shifts_start': {'0': 0, '1': 4}, 'shifts_end': {'0': 4, '1': 8}}, 2: {'shifts_start': {'0': 0, '1': 4}, 'shifts_end': {'0': 4, '1': 8}}, 3: {'shifts_start': {'0': 0, '1': 4}, 'shifts_end': {'0': 4, '1': 8}}}\n",
      "{0: {'shifts_start': {'0': 0, '1': 4}, 'shifts_end': {'0': 4, '1': 8}}, 1: {'shifts_start': {'0': 0, '1': 4}, 'shifts_end': {'0': 4, '1': 8}}, 2: {'shifts_start': {'0': 0, '1': 4}, 'shifts_end': {'0': 4, '1': 8}}, 3: {'shifts_start': {'0': 0, '1': 4}, 'shifts_end': {'0': 4, '1': 8}}}\n"
     ]
    }
   ],
   "source": [
    "count = 0\n",
    "matching_shifts_1 = 0\n",
    "matching_shifts_2 = 0\n",
    "\n",
    "for base_file in list_city_dt:\n",
    "\n",
    "\n",
    "    weekday_ = f'{base_file}_dt=doublepeak.json'\n",
    "    weekend_ = f'{base_file}_dt=uniform.json'\n",
    "    shift_file_weekday = f\"../../shifts/{weekday_}\"\n",
    "    shift_file_weekend = f\"../../shifts/{weekend_}\"\n",
    "\n",
    "\n",
    "    for OC in [1.2, 1.5, 1.8, 2.0, 2.5]:\n",
    "\n",
    "        count +=1\n",
    "\n",
    "        # Group 1\n",
    "        shift_weekend_flex = load_shift(shift_file_weekend, OC, RM, GM, \"flex\")\n",
    "        shift_weekday_flex = load_shift(shift_file_weekday, OC, RM, GM, \"flex\")\n",
    "       \n",
    "        shift_weekend_partflex_4 = load_shift(shift_file_weekend, OC, RM, GM, \"partflex\", 4)\n",
    "        shift_weekday_partflex_4 = load_shift(shift_file_weekday, OC, RM, GM, \"partflex\", 4)\n",
    "\n",
    "        shift_weekend_partflex_3 = load_shift(shift_file_weekend, OC, RM, GM, \"partflex\", 3)\n",
    "        shift_weekday_partflex_3 = load_shift(shift_file_weekday, OC, RM, GM, \"partflex\", 3)\n",
    "\n",
    "\n",
    "        if shift_weekend_flex == shift_weekend_partflex_4 and \\\n",
    "            shift_weekend_partflex_4 == shift_weekend_partflex_3 and \\\n",
    "            shift_weekday_flex == shift_weekday_partflex_4 and \\\n",
    "            shift_weekday_partflex_4 == shift_weekday_partflex_3:\n",
    "            matching_shifts_1 += 1\n",
    "        else:\n",
    "            print(OC, base_file, \"shifts don't match G1\")\n",
    "\n",
    "        # Group 2\n",
    "        shift_weekend_fixed = load_shift(shift_file_weekend, OC, RM, GM, \"fixed\")\n",
    "        shift_weekday_fixed = load_shift(shift_file_weekday, OC, RM, GM, \"fixed\")\n",
    "       \n",
    "        shift_weekend_partflex_2 = load_shift(shift_file_weekend, OC, RM, GM, \"partflex\", 2)\n",
    "        shift_weekday_partflex_2 = load_shift(shift_file_weekday, OC, RM, GM, \"partflex\", 2)   \n",
    "\n",
    "        if    shift_weekend_fixed == shift_weekend_partflex_2 and \\\n",
    "            shift_weekday_fixed == shift_weekday_partflex_2:\n",
    "            matching_shifts_2 += 1\n",
    "        else:\n",
    "            print(OC, base_file, \"shifts don't match G2\")\n",
    "            print(shift_weekend_fixed)\n",
    "            print(shift_weekend_partflex_2)\n",
    "\n",
    "\n"
   ]
  },
  {
   "cell_type": "code",
   "execution_count": 6,
   "metadata": {},
   "outputs": [
    {
     "name": "stdout",
     "output_type": "stream",
     "text": [
      "0.9833333333333333\n"
     ]
    }
   ],
   "source": [
    "print(matching_shifts_1/count)"
   ]
  },
  {
   "cell_type": "code",
   "execution_count": 7,
   "metadata": {},
   "outputs": [
    {
     "name": "stdout",
     "output_type": "stream",
     "text": [
      "0.9833333333333333\n"
     ]
    }
   ],
   "source": [
    "print(matching_shifts_1/count)"
   ]
  }
 ],
 "metadata": {
  "kernelspec": {
   "display_name": "tsp",
   "language": "python",
   "name": "python3"
  },
  "language_info": {
   "codemirror_mode": {
    "name": "ipython",
    "version": 3
   },
   "file_extension": ".py",
   "mimetype": "text/x-python",
   "name": "python",
   "nbconvert_exporter": "python",
   "pygments_lexer": "ipython3",
   "version": "3.11.5"
  }
 },
 "nbformat": 4,
 "nbformat_minor": 2
}
