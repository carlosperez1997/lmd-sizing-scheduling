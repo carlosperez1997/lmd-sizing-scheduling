{
 "cells": [
  {
   "cell_type": "code",
   "execution_count": 20,
   "metadata": {},
   "outputs": [],
   "source": [
    "import pandas as pd\n",
    "import numpy as np\n",
    "import json\n",
    "\n",
    "import seaborn as sns\n",
    "import matplotlib.pyplot as plt\n",
    "from matplotlib.patches import Patch\n",
    "from matplotlib.legend_handler import HandlerTuple\n",
    "\n",
    "import matplotlib as mpl\n",
    "\n",
    "plt.rcParams.update({\"text.usetex\": False, \n",
    "                     \"font.family\" : \"serif\", \"font.serif\" : [\"Computer Modern Serif\"]})\n",
    "#mpl.rcParams.update(mpl.rcParamsDefault)"
   ]
  },
  {
   "cell_type": "code",
   "execution_count": 21,
   "metadata": {},
   "outputs": [],
   "source": [
    "instance_file = '../../instances/berlin_db=1.00_dt=uniform.json'\n",
    "with open(instance_file) as f:\n",
    "    data = json.load(f)"
   ]
  },
  {
   "cell_type": "markdown",
   "metadata": {},
   "source": [
    "# Uniform"
   ]
  },
  {
   "cell_type": "code",
   "execution_count": 22,
   "metadata": {},
   "outputs": [],
   "source": [
    "all_area_scenarios = []\n",
    "for scenario in data['scenarios']:\n",
    "    for area_id in range(len(scenario['data'])):\n",
    "        all_area_scenarios.append(scenario['data'][area_id])\n",
    "all_area_scenarios_df = pd.DataFrame(all_area_scenarios)\n",
    "area_ids = list(all_area_scenarios_df['area_id'].unique())\n",
    "all_area_scenarios_df = all_area_scenarios_df.query(f'area_id == \"{area_ids[area_id]}\"')"
   ]
  },
  {
   "cell_type": "code",
   "execution_count": 23,
   "metadata": {},
   "outputs": [],
   "source": [
    "all_area_scenarios = []\n",
    "for scenario in data['scenarios']:\n",
    "    for area_id in range(len(scenario['data'])):\n",
    "        all_area_scenarios.append(scenario['data'][area_id])\n",
    "all_area_scenarios_df = pd.DataFrame(all_area_scenarios)\n",
    "area_ids = list(all_area_scenarios_df['area_id'].unique())\n",
    "all_area_scenarios_df = all_area_scenarios_df.query(f'area_id == \"{area_ids[area_id]}\"')"
   ]
  },
  {
   "cell_type": "code",
   "execution_count": 24,
   "metadata": {},
   "outputs": [],
   "source": [
    "for period in range(8):\n",
    "    all_area_scenarios_df[f'demand_{period}'] = all_area_scenarios_df['demand'].apply(lambda x: int(x[period]) )\n",
    "    all_area_scenarios_df[f'required_couriers_{period}'] = all_area_scenarios_df['required_couriers'].apply(lambda x: int(x[period]) )\n",
    "\n",
    "melt_df = pd.melt(all_area_scenarios_df, id_vars='area_id', value_vars=[f'demand_{period}' for period in range(8)])\n",
    "melt_df['period'] = melt_df['variable'].apply(lambda x: int(x.split('_')[-1]))\n",
    "uniform_df = melt_df.groupby('period').agg({'value': 'sum'}).reset_index()"
   ]
  },
  {
   "cell_type": "markdown",
   "metadata": {},
   "source": [
    "for period in range(8):\n",
    "    all_area_scenarios_df[f'demand_{period}'] = all_area_scenarios_df['demand'].apply(lambda x: int(x[period]) )\n",
    "    all_area_scenarios_df[f'required_couriers_{period}'] = all_area_scenarios_df['required_couriers'].apply(lambda x: int(x[period]) )\n",
    "\n",
    "melt_df = pd.melt(all_area_scenarios_df, id_vars='area_id', value_vars=[f'demand_{period}' for period in range(8)])\n",
    "melt_df['period'] = melt_df['variable'].apply(lambda x: int(x.split('_')[-1]))\n",
    "uniform_df = melt_df.groupby('period').agg({'value': 'sum'}).reset_index()"
   ]
  },
  {
   "cell_type": "code",
   "execution_count": 25,
   "metadata": {},
   "outputs": [],
   "source": [
    "instance_file = '../../instances/berlin_db=1.00_dt=doublepeak.json'\n",
    "with open(instance_file) as f:\n",
    "    data = json.load(f)\n",
    "\n",
    "all_area_scenarios = []\n",
    "for scenario in data['scenarios']:\n",
    "    for area_id in range(len(scenario['data'])):\n",
    "        all_area_scenarios.append(scenario['data'][area_id])\n",
    "all_area_scenarios_df = pd.DataFrame(all_area_scenarios)\n",
    "all_area_scenarios_df = all_area_scenarios_df.query(f'area_id == \"{area_ids[area_id]}\"')\n",
    "\n",
    "for period in range(8):\n",
    "    all_area_scenarios_df[f'demand_{period}'] = all_area_scenarios_df['demand'].apply(lambda x: int(x[period]) )\n",
    "    all_area_scenarios_df[f'required_couriers_{period}'] = all_area_scenarios_df['required_couriers'].apply(lambda x: int(x[period]) )\n",
    "\n",
    "melt_df = pd.melt(all_area_scenarios_df, id_vars='area_id', value_vars=[f'demand_{period}' for period in range(8)])\n",
    "melt_df['period'] = melt_df['variable'].apply(lambda x: int(x.split('_')[-1]))\n",
    "\n",
    "doublepeak_df = melt_df.groupby('period').agg({'value': 'sum'}).reset_index()"
   ]
  },
  {
   "cell_type": "code",
   "execution_count": 26,
   "metadata": {},
   "outputs": [
    {
     "name": "stdout",
     "output_type": "stream",
     "text": [
      "764\n",
      "720\n"
     ]
    }
   ],
   "source": [
    "print(uniform_df['value'].sum())\n",
    "print(doublepeak_df['value'].sum())"
   ]
  },
  {
   "cell_type": "code",
   "execution_count": 27,
   "metadata": {},
   "outputs": [
    {
     "name": "stderr",
     "output_type": "stream",
     "text": [
      "findfont: Generic family 'serif' not found because none of the following families were found: Computer Modern Serif\n",
      "findfont: Generic family 'serif' not found because none of the following families were found: Computer Modern Serif\n",
      "findfont: Generic family 'serif' not found because none of the following families were found: Computer Modern Serif\n",
      "findfont: Generic family 'serif' not found because none of the following families were found: Computer Modern Serif\n",
      "findfont: Generic family 'serif' not found because none of the following families were found: Computer Modern Serif\n",
      "findfont: Generic family 'serif' not found because none of the following families were found: Computer Modern Serif\n",
      "findfont: Generic family 'serif' not found because none of the following families were found: Computer Modern Serif\n",
      "findfont: Generic family 'serif' not found because none of the following families were found: Computer Modern Serif\n",
      "findfont: Generic family 'serif' not found because none of the following families were found: Computer Modern Serif\n",
      "findfont: Generic family 'serif' not found because none of the following families were found: Computer Modern Serif\n"
     ]
    },
    {
     "name": "stderr",
     "output_type": "stream",
     "text": [
      "findfont: Generic family 'serif' not found because none of the following families were found: Computer Modern Serif\n",
      "findfont: Generic family 'serif' not found because none of the following families were found: Computer Modern Serif\n",
      "findfont: Generic family 'serif' not found because none of the following families were found: Computer Modern Serif\n",
      "findfont: Generic family 'serif' not found because none of the following families were found: Computer Modern Serif\n",
      "findfont: Generic family 'serif' not found because none of the following families were found: Computer Modern Serif\n",
      "findfont: Generic family 'serif' not found because none of the following families were found: Computer Modern Serif\n",
      "findfont: Generic family 'serif' not found because none of the following families were found: Computer Modern Serif\n",
      "findfont: Generic family 'serif' not found because none of the following families were found: Computer Modern Serif\n",
      "findfont: Generic family 'serif' not found because none of the following families were found: Computer Modern Serif\n",
      "findfont: Generic family 'serif' not found because none of the following families were found: Computer Modern Serif\n",
      "findfont: Generic family 'serif' not found because none of the following families were found: Computer Modern Serif\n",
      "findfont: Generic family 'serif' not found because none of the following families were found: Computer Modern Serif\n",
      "findfont: Generic family 'serif' not found because none of the following families were found: Computer Modern Serif\n",
      "findfont: Generic family 'serif' not found because none of the following families were found: Computer Modern Serif\n",
      "findfont: Generic family 'serif' not found because none of the following families were found: Computer Modern Serif\n",
      "findfont: Generic family 'serif' not found because none of the following families were found: Computer Modern Serif\n",
      "findfont: Generic family 'serif' not found because none of the following families were found: Computer Modern Serif\n",
      "findfont: Generic family 'serif' not found because none of the following families were found: Computer Modern Serif\n",
      "findfont: Generic family 'serif' not found because none of the following families were found: Computer Modern Serif\n",
      "findfont: Generic family 'serif' not found because none of the following families were found: Computer Modern Serif\n",
      "findfont: Generic family 'serif' not found because none of the following families were found: Computer Modern Serif\n",
      "findfont: Generic family 'serif' not found because none of the following families were found: Computer Modern Serif\n",
      "findfont: Generic family 'serif' not found because none of the following families were found: Computer Modern Serif\n",
      "findfont: Generic family 'serif' not found because none of the following families were found: Computer Modern Serif\n",
      "findfont: Generic family 'serif' not found because none of the following families were found: Computer Modern Serif\n",
      "findfont: Generic family 'serif' not found because none of the following families were found: Computer Modern Serif\n",
      "findfont: Generic family 'serif' not found because none of the following families were found: Computer Modern Serif\n",
      "findfont: Generic family 'serif' not found because none of the following families were found: Computer Modern Serif\n",
      "findfont: Generic family 'serif' not found because none of the following families were found: Computer Modern Serif\n",
      "findfont: Generic family 'serif' not found because none of the following families were found: Computer Modern Serif\n",
      "findfont: Generic family 'serif' not found because none of the following families were found: Computer Modern Serif\n",
      "findfont: Generic family 'serif' not found because none of the following families were found: Computer Modern Serif\n",
      "findfont: Generic family 'serif' not found because none of the following families were found: Computer Modern Serif\n",
      "findfont: Generic family 'serif' not found because none of the following families were found: Computer Modern Serif\n",
      "findfont: Generic family 'serif' not found because none of the following families were found: Computer Modern Serif\n",
      "findfont: Generic family 'serif' not found because none of the following families were found: Computer Modern Serif\n",
      "findfont: Generic family 'serif' not found because none of the following families were found: Computer Modern Serif\n",
      "findfont: Generic family 'serif' not found because none of the following families were found: Computer Modern Serif\n",
      "findfont: Generic family 'serif' not found because none of the following families were found: Computer Modern Serif\n",
      "findfont: Generic family 'serif' not found because none of the following families were found: Computer Modern Serif\n",
      "findfont: Generic family 'serif' not found because none of the following families were found: Computer Modern Serif\n",
      "findfont: Generic family 'serif' not found because none of the following families were found: Computer Modern Serif\n",
      "findfont: Generic family 'serif' not found because none of the following families were found: Computer Modern Serif\n",
      "findfont: Generic family 'serif' not found because none of the following families were found: Computer Modern Serif\n",
      "findfont: Generic family 'serif' not found because none of the following families were found: Computer Modern Serif\n",
      "findfont: Generic family 'serif' not found because none of the following families were found: Computer Modern Serif\n",
      "findfont: Generic family 'serif' not found because none of the following families were found: Computer Modern Serif\n",
      "findfont: Generic family 'serif' not found because none of the following families were found: Computer Modern Serif\n",
      "findfont: Generic family 'serif' not found because none of the following families were found: Computer Modern Serif\n",
      "findfont: Generic family 'serif' not found because none of the following families were found: Computer Modern Serif\n",
      "findfont: Generic family 'serif' not found because none of the following families were found: Computer Modern Serif\n",
      "findfont: Generic family 'serif' not found because none of the following families were found: Computer Modern Serif\n",
      "findfont: Generic family 'serif' not found because none of the following families were found: Computer Modern Serif\n",
      "findfont: Generic family 'serif' not found because none of the following families were found: Computer Modern Serif\n",
      "findfont: Generic family 'serif' not found because none of the following families were found: Computer Modern Serif\n",
      "findfont: Generic family 'serif' not found because none of the following families were found: Computer Modern Serif\n",
      "findfont: Generic family 'serif' not found because none of the following families were found: Computer Modern Serif\n",
      "findfont: Generic family 'serif' not found because none of the following families were found: Computer Modern Serif\n",
      "findfont: Generic family 'serif' not found because none of the following families were found: Computer Modern Serif\n",
      "findfont: Generic family 'serif' not found because none of the following families were found: Computer Modern Serif\n",
      "findfont: Generic family 'serif' not found because none of the following families were found: Computer Modern Serif\n",
      "findfont: Generic family 'serif' not found because none of the following families were found: Computer Modern Serif\n",
      "findfont: Generic family 'serif' not found because none of the following families were found: Computer Modern Serif\n",
      "findfont: Generic family 'serif' not found because none of the following families were found: Computer Modern Serif\n",
      "findfont: Generic family 'serif' not found because none of the following families were found: Computer Modern Serif\n",
      "findfont: Generic family 'serif' not found because none of the following families were found: Computer Modern Serif\n",
      "findfont: Generic family 'serif' not found because none of the following families were found: Computer Modern Serif\n",
      "findfont: Generic family 'serif' not found because none of the following families were found: Computer Modern Serif\n",
      "findfont: Generic family 'serif' not found because none of the following families were found: Computer Modern Serif\n",
      "findfont: Generic family 'serif' not found because none of the following families were found: Computer Modern Serif\n",
      "findfont: Generic family 'serif' not found because none of the following families were found: Computer Modern Serif\n",
      "findfont: Generic family 'serif' not found because none of the following families were found: Computer Modern Serif\n",
      "findfont: Generic family 'serif' not found because none of the following families were found: Computer Modern Serif\n",
      "findfont: Generic family 'serif' not found because none of the following families were found: Computer Modern Serif\n",
      "findfont: Generic family 'serif' not found because none of the following families were found: Computer Modern Serif\n",
      "findfont: Generic family 'serif' not found because none of the following families were found: Computer Modern Serif\n",
      "findfont: Generic family 'serif' not found because none of the following families were found: Computer Modern Serif\n",
      "findfont: Generic family 'serif' not found because none of the following families were found: Computer Modern Serif\n"
     ]
    },
    {
     "data": {
      "image/png": "[encoded data removed]",
      "text/plain": [
       "<Figure size 864x360 with 2 Axes>"
      ]
     },
     "metadata": {
      "needs_background": "light"
     },
     "output_type": "display_data"
    }
   ],
   "source": [
    "plt.rcParams['hatch.linewidth'] = 2\n",
    "\n",
    "fig, axs = plt.subplots(ncols=2, nrows=1, figsize=(12,5))\n",
    "\n",
    "# XTICKS\n",
    "hours = [6, 8, 10, 12, 14, 16, 18, 20, 22]\n",
    "xtick_labels = [f'{hour:02d}:00' for hour in hours]\n",
    "xtick_positions = [ i-1.5 for i in range(1, len(hours) + 1)]\n",
    "\n",
    "sns.barplot(x=uniform_df['period'], y=uniform_df['value'],\n",
    "            color='#004990', ax=axs[0], dodge=False)\n",
    "\n",
    "# LABELS\n",
    "axs[0].set_xlabel('')\n",
    "axs[0].set_ylabel('Number of deliveries', fontsize=14)\n",
    "#axs[0].yaxis.grid(which='major')\n",
    "axs[0].axes.set_axisbelow(True)\n",
    "axs[0].set_xlabel('')\n",
    "axs[0].set_title('UNIFORM', fontsize=14)\n",
    "axs[0].set_ylim(0, doublepeak_df['value'].max()*1.05)\n",
    "axs[0].set_xticks(xtick_positions)\n",
    "axs[0].set_xticklabels(xtick_labels, rotation=90)\n",
    "\n",
    "# Set left and right margins\n",
    "axs[0].set_xlim(-1.5, len(hours) - 0.5)\n",
    "\n",
    "sns.barplot(x=doublepeak_df['period'], y=doublepeak_df['value'], \n",
    "            color='#2a8203', ax=axs[1], dodge=False)\n",
    "\n",
    "# LABELS\n",
    "axs[1].set_xlabel('')\n",
    "axs[1].set_ylabel('Number of deliveries', fontsize=14)\n",
    "#axs[1].yaxis.grid(which='major')\n",
    "axs[1].axes.set_axisbelow(True)\n",
    "axs[1].set_xlabel('')\n",
    "axs[1].set_title('DOUBLE PEAK')\n",
    "axs[1].set_ylim(0, doublepeak_df['value'].max()*1.05)\n",
    "axs[1].set_xticks(xtick_positions)\n",
    "axs[1].set_xticklabels(xtick_labels, rotation=90)\n",
    "\n",
    "# Set left and right margins\n",
    "axs[1].set_xlim(-1.5, len(hours) - 0.5)\n",
    "\n",
    "fig.tight_layout()\n",
    "plt.subplots_adjust(wspace=0.2)\n",
    "#fig.savefig('figures/demand_distibution.pdf', dpi=96, bbox_inches='tight')\n",
    "\n",
    "plt.show()"
   ]
  }
 ],
 "metadata": {
  "kernelspec": {
   "display_name": "base",
   "language": "python",
   "name": "python3"
  },
  "language_info": {
   "codemirror_mode": {
    "name": "ipython",
    "version": 3
   },
   "file_extension": ".py",
   "mimetype": "text/x-python",
   "name": "python",
   "nbconvert_exporter": "python",
   "pygments_lexer": "ipython3",
   "version": "3.12.2"
  }
 },
 "nbformat": 4,
 "nbformat_minor": 2
}
