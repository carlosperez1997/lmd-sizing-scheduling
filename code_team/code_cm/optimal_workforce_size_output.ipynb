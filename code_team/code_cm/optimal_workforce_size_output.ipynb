{
 "cells": [
  {
   "cell_type": "code",
   "execution_count": 1,
   "metadata": {},
   "outputs": [
    {
     "name": "stderr",
     "output_type": "stream",
     "text": [
      "/home/clarice/.local/lib/python3.10/site-packages/matplotlib/projections/__init__.py:63: UserWarning: Unable to import Axes3D. This may be due to multiple versions of Matplotlib being installed (e.g. as a system package and as a pip package). As a result, the 3D projection is not available.\n",
      "  warnings.warn(\"Unable to import Axes3D. This may be due to multiple versions of \"\n"
     ]
    }
   ],
   "source": [
    "from glob import glob\n",
    "from os import path\n",
    "from matplotlib.patches import Patch\n",
    "from matplotlib.lines import Line2D\n",
    "from matplotlib.legend_handler import HandlerTuple\n",
    "import matplotlib.pyplot as plt\n",
    "import seaborn as sns\n",
    "import json\n",
    "import pandas as pd\n",
    "import os\n",
    "import numpy as np\n",
    "import re\n",
    "from os.path import basename, splitext\n",
    "\n",
    "# from solver import Instance\n",
    "\n",
    "from argparse import Namespace\n",
    "import sys\n",
    "sys.path.append('../solver')\n",
    "# from solver_output import practice_print\n",
    "from solver_rostering import run_roster_solver_objval"
   ]
  },
  {
   "cell_type": "code",
   "execution_count": 3,
   "metadata": {},
   "outputs": [
    {
     "name": "stdout",
     "output_type": "stream",
     "text": [
      "['paris_db=4.00', 'berlin_db=2.00', 'paris_db=1.00', 'lyon_db=1.00', 'frankfurt_db=4.00', 'frankfurt_db=2.00', 'berlin_db=4.00', 'frankfurt_db=0.50', 'frankfurt_db=1.00', 'paris_db=2.00', 'berlin_db=1.00', 'lyon_db=0.50', 'paris_db=0.50', 'berlin_db=0.50', 'lyon_db=4.00', 'lyon_db=2.00']\n",
      "16\n"
     ]
    }
   ],
   "source": [
    "list_city_dt = []\n",
    "\n",
    "for file_in in os.listdir(r'../../instances'):\n",
    "    base_file = splitext(basename(file_in))[0]\n",
    "    base_file_split = base_file.split('_')\n",
    "    file = base_file_split[0]+'_'+base_file_split[1]\n",
    "    list_city_dt.append(file)\n",
    "\n",
    "list_city_dt = list(set(list_city_dt))\n",
    "print(list_city_dt)\n",
    "print(len(list_city_dt))"
   ]
  },
  {
   "cell_type": "code",
   "execution_count": 23,
   "metadata": {},
   "outputs": [
    {
     "name": "stdout",
     "output_type": "stream",
     "text": [
      "trial_size 1\n"
     ]
    },
    {
     "ename": "FileNotFoundError",
     "evalue": "[Errno 2] No such file or directory: '../instances/berlin_db=1.00_dt=doublepeak.json'",
     "output_type": "error",
     "traceback": [
      "\u001b[0;31m---------------------------------------------------------------------------\u001b[0m",
      "\u001b[0;31mFileNotFoundError\u001b[0m                         Traceback (most recent call last)",
      "Cell \u001b[0;32mIn[23], line 66\u001b[0m\n\u001b[1;32m     64\u001b[0m \u001b[38;5;28;01mif\u001b[39;00m (objval \u001b[38;5;241m<\u001b[39m objvalprev)\u001b[38;5;241m&\u001b[39m(np\u001b[38;5;241m.\u001b[39misnan(objval) \u001b[38;5;241m==\u001b[39m \u001b[38;5;28;01mFalse\u001b[39;00m):\n\u001b[1;32m     65\u001b[0m     objvalprev \u001b[38;5;241m=\u001b[39m objval\n\u001b[0;32m---> 66\u001b[0m     dict_results \u001b[38;5;241m=\u001b[39m \u001b[43mrun_roster_solver_objval\u001b[49m\u001b[43m(\u001b[49m\u001b[43mmodel\u001b[49m\u001b[43m,\u001b[49m\u001b[43m \u001b[49m\u001b[43minstance_file_weekday\u001b[49m\u001b[43m,\u001b[49m\u001b[43m \u001b[49m\u001b[43mshift_file_weekday\u001b[49m\u001b[43m,\u001b[49m\u001b[43m \u001b[49m\u001b[43minstance_file_weekend\u001b[49m\u001b[43m,\u001b[49m\u001b[43m \u001b[49m\u001b[43mshift_file_weekend\u001b[49m\u001b[43m,\u001b[49m\u001b[43m \u001b[49m\u001b[43mworkforce_dict\u001b[49m\u001b[43m,\u001b[49m\u001b[43m \u001b[49m\u001b[43mOC\u001b[49m\u001b[43m,\u001b[49m\u001b[43m \u001b[49m\u001b[43mRM\u001b[49m\u001b[43m,\u001b[49m\u001b[43m \u001b[49m\u001b[43mGM\u001b[49m\u001b[43m,\u001b[49m\u001b[43m \u001b[49m\u001b[43mh_min\u001b[49m\u001b[43m,\u001b[49m\u001b[43m \u001b[49m\u001b[43mh_max\u001b[49m\u001b[43m,\u001b[49m\u001b[43m \u001b[49m\u001b[43mmax_n_diff\u001b[49m\u001b[43m)\u001b[49m\n\u001b[1;32m     67\u001b[0m     objval \u001b[38;5;241m=\u001b[39m dict_results[\u001b[38;5;124m'\u001b[39m\u001b[38;5;124mobjective_value\u001b[39m\u001b[38;5;124m'\u001b[39m][\u001b[38;5;241m0\u001b[39m]\n\u001b[1;32m     68\u001b[0m     \u001b[38;5;28mprint\u001b[39m(\u001b[38;5;124m\"\u001b[39m\u001b[38;5;124mobjective_value\u001b[39m\u001b[38;5;124m\"\u001b[39m,objval)\n",
      "File \u001b[0;32m~/Documents/VSCode/Term3/Masters_Thesis/lmd-sizing-scheduling/code_team/code_cm/solver_rostering.py:616\u001b[0m, in \u001b[0;36mrun_roster_solver_objval\u001b[0;34m(model, instance_file_weekday, shift_file_weekday, instance_file_weekend, shift_file_weekend, workforce_dict, outsourcing_cost_multiplier, regional_multiplier, global_multiplier, h_min, h_max, max_n_diff, max_n_shifts)\u001b[0m\n\u001b[1;32m    597\u001b[0m \u001b[38;5;28;01mdef\u001b[39;00m \u001b[38;5;21mrun_roster_solver_objval\u001b[39m(model, instance_file_weekday, shift_file_weekday, instance_file_weekend, shift_file_weekend, workforce_dict, outsourcing_cost_multiplier, regional_multiplier, global_multiplier, h_min, h_max, max_n_diff, max_n_shifts\u001b[38;5;241m=\u001b[39m\u001b[38;5;28;01mNone\u001b[39;00m):\n\u001b[1;32m    598\u001b[0m     args \u001b[38;5;241m=\u001b[39m Namespace(\n\u001b[1;32m    599\u001b[0m         model\u001b[38;5;241m=\u001b[39mmodel,\n\u001b[1;32m    600\u001b[0m         instance_file_weekday\u001b[38;5;241m=\u001b[39minstance_file_weekday,\n\u001b[0;32m   (...)\u001b[0m\n\u001b[1;32m    613\u001b[0m         max_n_shifts\u001b[38;5;241m=\u001b[39mmax_n_shifts\n\u001b[1;32m    614\u001b[0m     )\n\u001b[0;32m--> 616\u001b[0m     i \u001b[38;5;241m=\u001b[39m \u001b[43mInstance\u001b[49m\u001b[43m(\u001b[49m\u001b[43margs\u001b[49m\u001b[38;5;241;43m=\u001b[39;49m\u001b[43margs\u001b[49m\u001b[43m)\u001b[49m\n\u001b[1;32m    617\u001b[0m     solver \u001b[38;5;241m=\u001b[39m Solver(args\u001b[38;5;241m=\u001b[39margs, i\u001b[38;5;241m=\u001b[39mi)\n\u001b[1;32m    619\u001b[0m     roster_results \u001b[38;5;241m=\u001b[39m solver\u001b[38;5;241m.\u001b[39msolve_roster_objval()\n",
      "File \u001b[0;32m~/Documents/VSCode/Term3/Masters_Thesis/lmd-sizing-scheduling/code_team/code_cm/solver_rostering.py:142\u001b[0m, in \u001b[0;36mInstance.__init__\u001b[0;34m(self, args, **kwargs)\u001b[0m\n\u001b[1;32m    139\u001b[0m         \u001b[38;5;28mself\u001b[39m\u001b[38;5;241m.\u001b[39mmax_n_shifts \u001b[38;5;241m=\u001b[39m \u001b[38;5;28mself\u001b[39m\u001b[38;5;241m.\u001b[39margs\u001b[38;5;241m.\u001b[39mmax_n_shifts\n\u001b[1;32m    141\u001b[0m \u001b[38;5;66;03m#load json instance_file dictionary\u001b[39;00m\n\u001b[0;32m--> 142\u001b[0m \u001b[38;5;28mself\u001b[39m\u001b[38;5;241m.\u001b[39mi_weekday \u001b[38;5;241m=\u001b[39m \u001b[38;5;28;43mself\u001b[39;49m\u001b[38;5;241;43m.\u001b[39;49m\u001b[43m__load_instance\u001b[49m\u001b[43m(\u001b[49m\u001b[38;5;28;43mself\u001b[39;49m\u001b[38;5;241;43m.\u001b[39;49m\u001b[43minstance_file_weekday\u001b[49m\u001b[43m)\u001b[49m\n\u001b[1;32m    143\u001b[0m \u001b[38;5;28mself\u001b[39m\u001b[38;5;241m.\u001b[39mj_weekday \u001b[38;5;241m=\u001b[39m \u001b[38;5;28mself\u001b[39m\u001b[38;5;241m.\u001b[39m__load_shift(\u001b[38;5;28mself\u001b[39m\u001b[38;5;241m.\u001b[39mshift_file_weekday)\n\u001b[1;32m    144\u001b[0m \u001b[38;5;28mself\u001b[39m\u001b[38;5;241m.\u001b[39mi_weekend \u001b[38;5;241m=\u001b[39m \u001b[38;5;28mself\u001b[39m\u001b[38;5;241m.\u001b[39m__load_instance(\u001b[38;5;28mself\u001b[39m\u001b[38;5;241m.\u001b[39minstance_file_weekend)\n",
      "File \u001b[0;32m~/Documents/VSCode/Term3/Masters_Thesis/lmd-sizing-scheduling/code_team/code_cm/solver_rostering.py:287\u001b[0m, in \u001b[0;36mInstance.__load_instance\u001b[0;34m(self, instance_file)\u001b[0m\n\u001b[1;32m    286\u001b[0m \u001b[38;5;28;01mdef\u001b[39;00m \u001b[38;5;21m__load_instance\u001b[39m(\u001b[38;5;28mself\u001b[39m, instance_file: \u001b[38;5;28mstr\u001b[39m) \u001b[38;5;241m-\u001b[39m\u001b[38;5;241m>\u001b[39m \u001b[38;5;28mdict\u001b[39m:\n\u001b[0;32m--> 287\u001b[0m     \u001b[38;5;28;01mwith\u001b[39;00m \u001b[38;5;28;43mopen\u001b[39;49m\u001b[43m(\u001b[49m\u001b[43minstance_file\u001b[49m\u001b[43m)\u001b[49m \u001b[38;5;28;01mas\u001b[39;00m f:\n\u001b[1;32m    288\u001b[0m         \u001b[38;5;28;01mreturn\u001b[39;00m json\u001b[38;5;241m.\u001b[39mload(f)\n",
      "\u001b[0;31mFileNotFoundError\u001b[0m: [Errno 2] No such file or directory: '../instances/berlin_db=1.00_dt=doublepeak.json'"
     ]
    }
   ],
   "source": [
    "list_results = []\n",
    "dict_workforce = {}\n",
    "dict_workforce['instance'] = []\n",
    "dict_workforce['OC'] = []\n",
    "dict_workforce['model'] = []\n",
    "dict_workforce['max_n_shifts'] = []\n",
    "dict_workforce['workforce_size'] = []\n",
    "dict_workforce['objective_value'] = []\n",
    "dict_workforce['workforce_size_next'] = []\n",
    "dict_workforce['objective_value_next'] = []\n",
    "\n",
    "workforce_dict = {0:5, 1:5, 2:5, 3:5, 4:5}\n",
    "RM = 1.5\n",
    "GM = 0.8\n",
    "h_min = 32\n",
    "h_max = 48\n",
    "max_n_diff = 3\n",
    "\n",
    "# for base_file in list_city_dt:\n",
    "for base_file in ['berlin_db=1.00']:\n",
    "    weekday_ = f'{base_file}_dt=doublepeak.json'\n",
    "    weekend_ = f'{base_file}_dt=uniform.json'\n",
    "\n",
    "    instance_file_weekday = f\"../instances/{weekday_}\"\n",
    "    instance_file_weekend = f\"../instances/{weekend_}\"\n",
    "\n",
    "    shift_file_weekday = f\"../shifts/{weekday_}\"\n",
    "    shift_file_weekend = f\"../shifts/{weekend_}\"\n",
    "    \n",
    "    # for OC in [1.2, 1.5, 1.8, 2.0, 2.5]:\n",
    "    for OC in [1.5]:\n",
    "        # for model in ['fixed', 'flex', 'partflex']:\n",
    "        for model in ['fixed']:\n",
    "            if model == 'partflex':\n",
    "                for max_n_shifts in range(2,5):\n",
    "                    objvalprev = 1\n",
    "                    objval = 0\n",
    "                    for trial_size in range(1, 10000):\n",
    "                        workforce_dict = {0:trial_size, 1:1, 2:1, 3:1, 4:1}\n",
    "                        if (objval < objvalprev)&(np.isnan(objval) == False):\n",
    "                            objvalprev = objval\n",
    "                            dict_results = run_roster_solver_objval(model, instance_file_weekday, shift_file_weekday, instance_file_weekend, shift_file_weekend, workforce_dict, OC, RM, GM, h_min, h_max, max_n_diff, max_n_shifts)\n",
    "                            objval = dict_results['objective_value'][0]\n",
    "                            df_ = pd.DataFrame(dict_results)\n",
    "                            df_['workforce_size_trial'] = trial_size\n",
    "                            list_results.append(df_)\n",
    "                        else:\n",
    "                            #keep track of optimal\n",
    "                            dict_workforce['instance'].append(base_file)\n",
    "                            dict_workforce['OC'].append(OC)\n",
    "                            dict_workforce['model'].append(model)\n",
    "                            dict_workforce['max_n_shifts'].append(max_n_shifts)\n",
    "                            trial_size = trial_size - 1\n",
    "                            dict_workforce['workforce_size'].append(trial_size)\n",
    "                            dict_workforce['objective_value'].append(objvalprev)\n",
    "                            dict_workforce['objective_value_next'].append(objval)\n",
    "                            trial_size = 10000000000\n",
    "            else:\n",
    "                objvalprev = 1\n",
    "                objval = 0\n",
    "                for trial_size in range(1, 6):\n",
    "                    print(\"trial_size\",trial_size)\n",
    "                    workforce_dict = {0:trial_size, 1:1, 2:1, 3:1, 4:1}\n",
    "                    if (objval < objvalprev)&(np.isnan(objval) == False):\n",
    "                        objvalprev = objval\n",
    "                        dict_results = run_roster_solver_objval(model, instance_file_weekday, shift_file_weekday, instance_file_weekend, shift_file_weekend, workforce_dict, OC, RM, GM, h_min, h_max, max_n_diff)\n",
    "                        objval = dict_results['objective_value'][0]\n",
    "                        print(\"objective_value\",objval)\n",
    "                        df_ = pd.DataFrame(dict_results)\n",
    "                        df_['workforce_size_trial'] = trial_size\n",
    "                        list_results.append(df_)\n",
    "                    else: \n",
    "                        #keep track of optimal (trial size - 1)\n",
    "                        dict_workforce['instance'].append(base_file)\n",
    "                        dict_workforce['OC'].append(OC)\n",
    "                        dict_workforce['model'].append(model)\n",
    "                        dict_workforce['max_n_shifts'].append(np.nan)\n",
    "                        trial_size = trial_size - 1\n",
    "                        dict_workforce['workforce_size'].append(trial_size)\n",
    "                        dict_workforce['objective_value'].append(objvalprev)\n",
    "                        dict_workforce['objective_value_next'].append(objval)\n",
    "                        trial_size = 10000000000\n"
   ]
  },
  {
   "cell_type": "code",
   "execution_count": 22,
   "metadata": {},
   "outputs": [
    {
     "data": {
      "text/plain": [
       "{'instance': ['berlin_db=1.00',\n",
       "  'berlin_db=1.00',\n",
       "  'berlin_db=1.00',\n",
       "  'berlin_db=1.00',\n",
       "  'berlin_db=1.00'],\n",
       " 'OC': [1.5, 1.5, 1.5, 1.5, 1.5],\n",
       " 'model': ['fixed', 'fixed', 'fixed', 'fixed', 'fixed'],\n",
       " 'max_n_shifts': [nan, nan, nan, nan, nan],\n",
       " 'workforce_size': [0, 1, 2, 3, 4],\n",
       " 'objective_value': [100000000, 100000000, 100000000, 100000000, 100000000],\n",
       " 'workforce_size_next': [],\n",
       " 'objective_value_next': [0, 0, 0, 0, 0]}"
      ]
     },
     "execution_count": 22,
     "metadata": {},
     "output_type": "execute_result"
    }
   ],
   "source": [
    "dict_workforce"
   ]
  }
 ],
 "metadata": {
  "kernelspec": {
   "display_name": "Python 3",
   "language": "python",
   "name": "python3"
  },
  "language_info": {
   "codemirror_mode": {
    "name": "ipython",
    "version": 3
   },
   "file_extension": ".py",
   "mimetype": "text/x-python",
   "name": "python",
   "nbconvert_exporter": "python",
   "pygments_lexer": "ipython3",
   "version": "3.10.12"
  }
 },
 "nbformat": 4,
 "nbformat_minor": 2
}
