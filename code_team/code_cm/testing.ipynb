{
 "cells": [
  {
   "cell_type": "code",
   "execution_count": 2,
   "metadata": {},
   "outputs": [
    {
     "name": "stderr",
     "output_type": "stream",
     "text": [
      "/home/clarice/.local/lib/python3.10/site-packages/matplotlib/projections/__init__.py:63: UserWarning: Unable to import Axes3D. This may be due to multiple versions of Matplotlib being installed (e.g. as a system package and as a pip package). As a result, the 3D projection is not available.\n",
      "  warnings.warn(\"Unable to import Axes3D. This may be due to multiple versions of \"\n"
     ]
    }
   ],
   "source": [
    "from glob import glob\n",
    "from os import path\n",
    "from matplotlib.patches import Patch\n",
    "from matplotlib.lines import Line2D\n",
    "from matplotlib.legend_handler import HandlerTuple\n",
    "import matplotlib.pyplot as plt\n",
    "import seaborn as sns\n",
    "import json\n",
    "import pandas as pd\n",
    "import os\n",
    "import numpy as np\n",
    "import re\n",
    "from os.path import basename, splitext"
   ]
  },
  {
   "cell_type": "code",
   "execution_count": 4,
   "metadata": {},
   "outputs": [],
   "source": [
    "workforce_file = r'../../workforce_size/berlin_db=1.00.json'\n",
    "\n",
    "\n",
    "with open(workforce_file, 'r') as file:\n",
    "    data = json.load(file)\n",
    "    df_workforce = pd.DataFrame(data)\n",
    "# df_workforce = df_workforce[(df_workforce['outsourcing_cost_multiplier']==self.outsourcing_cost_multiplier)&(df_workforce['regional_multiplier']==self.reg_multiplier)&(df_workforce['global_multiplier']==self.glb_multiplier)]\n",
    "# #fixed or flex\n",
    "# if self.model in ['fixed','flex']:\n",
    "#     df_workforce = df_workforce[df_workforce['model']==self.model]\n",
    "# #partflex\n",
    "# else:\n",
    "#     df_workforce = df_workforce[(df_workforce['model']==self.model)&(df_workforce['max_n_shifts']==self.max_n_shifts)]\n",
    "# df_workforce.reset_index(drop = True, inplace=True)\n",
    "# df_workforce = df_workforce[['workforce_size_region0']]\n",
    "# df_workforce = df_workforce.set_index('region').to_dict(orient='index')\n",
    "# return dict_shifts"
   ]
  },
  {
   "cell_type": "code",
   "execution_count": 6,
   "metadata": {},
   "outputs": [
    {
     "data": {
      "text/plain": [
       "9"
      ]
     },
     "execution_count": 6,
     "metadata": {},
     "output_type": "execute_result"
    }
   ],
   "source": [
    "df_workforce['workforce_size_region0'].tolist()[0]"
   ]
  },
  {
   "cell_type": "code",
   "execution_count": 7,
   "metadata": {},
   "outputs": [
    {
     "name": "stdout",
     "output_type": "stream",
     "text": [
      "../shifts/berlin_db=1.00_dt=doublepeak.json\n"
     ]
    }
   ],
   "source": [
    "# for base_file in list_city_dt:\n",
    "for base_file in ['berlin_db=1.00']:\n",
    "\n",
    "    #create inputs to run a trial workforce size\n",
    "    weekday_ = f'{base_file}_dt=doublepeak.json'\n",
    "    weekend_ = f'{base_file}_dt=uniform.json'\n",
    "\n",
    "    instance_file_weekday = f\"../instances/{weekday_}\"\n",
    "    instance_file_weekend = f\"../instances/{weekend_}\"\n",
    "\n",
    "    shift_file_weekday = f\"../shifts/{weekday_}\"\n",
    "\n",
    "print(shift_file_weekday)"
   ]
  },
  {
   "cell_type": "code",
   "execution_count": 12,
   "metadata": {},
   "outputs": [
    {
     "name": "stdout",
     "output_type": "stream",
     "text": [
      "berlin\n",
      "1.00\n"
     ]
    }
   ],
   "source": [
    "file = shift_file_weekday\n",
    "\n"
   ]
  },
  {
   "cell_type": "code",
   "execution_count": 14,
   "metadata": {},
   "outputs": [
    {
     "name": "stdout",
     "output_type": "stream",
     "text": [
      "../workforce_size/berlin_db=1.00.json\n"
     ]
    }
   ],
   "source": [
    "# berlin_db=1.00\n",
    "\n"
   ]
  }
 ],
 "metadata": {
  "kernelspec": {
   "display_name": "Python 3",
   "language": "python",
   "name": "python3"
  },
  "language_info": {
   "codemirror_mode": {
    "name": "ipython",
    "version": 3
   },
   "file_extension": ".py",
   "mimetype": "text/x-python",
   "name": "python",
   "nbconvert_exporter": "python",
   "pygments_lexer": "ipython3",
   "version": "3.10.12"
  }
 },
 "nbformat": 4,
 "nbformat_minor": 2
}
